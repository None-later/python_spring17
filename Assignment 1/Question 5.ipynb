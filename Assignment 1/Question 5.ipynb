{
 "cells": [
  {
   "cell_type": "markdown",
   "metadata": {
    "collapsed": true
   },
   "source": [
    "# Question 5\n",
    "- Use Gutenberg and Web_text data. Find out what are the top 5 words that Shakespeare used but we do not use in currently.\n",
    "- Take top 50 words from Shakespeare (all 3 books) and top 50 from Web_text (all the records).\n",
    "- Remove punctuation and stop words.\n",
    "- Remove the words we still use today, and get the unused list. Show the top 5 elements. \n"
   ]
  },
  {
   "cell_type": "code",
   "execution_count": 2,
   "metadata": {
    "collapsed": true
   },
   "outputs": [],
   "source": [
    "from nltk.corpus import gutenberg\n",
    "from nltk.corpus import webtext\n",
    "from nltk.corpus import stopwords\n",
    "from collections import Counter\n",
    "import string"
   ]
  },
  {
   "cell_type": "code",
   "execution_count": 3,
   "metadata": {
    "collapsed": false
   },
   "outputs": [],
   "source": [
    "pun = set(string.punctuation)  #Creating a list of punctuations to be removed.\n",
    "pun.add(\"...\")\n",
    "pun.add(\"***\")"
   ]
  },
  {
   "cell_type": "code",
   "execution_count": 4,
   "metadata": {
    "collapsed": false
   },
   "outputs": [
    {
     "name": "stdout",
     "output_type": "stream",
     "text": [
      "[('haue', 448), ('ham', 337), ('thou', 312), ('shall', 300), ('lord', 293), ('come', 232), ('king', 231), ('enter', 230), ('good', 218), ('let', 217), ('thy', 202), ('caesar', 193), ('vs', 184), ('know', 176), ('thee', 174), ('would', 170), ('like', 162), ('vpon', 162), ('brutus', 162), ('bru', 153), ('well', 152), ('hath', 144), ('selfe', 143), ('man', 139), ('may', 138), ('macb', 137), ('yet', 136), ('heere', 135), ('say', 130), ('must', 130), ('tis', 129), ('th', 125), ('loue', 119), ('make', 119), ('speake', 119), ('giue', 118), ('see', 116), ('time', 115), ('sir', 114), ('night', 114), ('one', 112), ('st', 110), ('cassi', 107), ('ile', 106), ('doe', 103), ('go', 100), ('hamlet', 100), ('men', 96), ('hor', 95), ('vp', 94)]\n"
     ]
    }
   ],
   "source": [
    "#Top 50 words from Shakespeare\n",
    "shake = []                                               #Adding all the shakespear files together.\n",
    "shake.extend(gutenberg.words(\"shakespeare-caesar.txt\"))\n",
    "shake.extend(gutenberg.words(\"shakespeare-hamlet.txt\"))\n",
    "shake.extend(gutenberg.words(\"shakespeare-macbeth.txt\"))\n",
    "\n",
    "shakeCount = [s.lower() for s in shake]                  #Converting text to lower case.\n",
    "fil_shake = [x for x in shakeCount if x not in stopwords.words('english')]  #Removing stop words.\n",
    "fil_shake = [u for u in fil_shake if u not in pun]                          #Removing punctuations.\n",
    "count = Counter(fil_shake)\n",
    "print (count.most_common(50))   #Taking top 50 words."
   ]
  },
  {
   "cell_type": "code",
   "execution_count": 5,
   "metadata": {
    "collapsed": false
   },
   "outputs": [
    {
     "name": "stdout",
     "output_type": "stream",
     "text": [
      "[('girl', 2956), ('guy', 2751), ('1', 2261), ('2', 1709), ('like', 1696), ('man', 1075), ('know', 1025), ('woman', 998), ('yeah', 895), ('page', 887), ('firefox', 879), ('get', 869), ('new', 790), ('chick', 714), ('one', 700), ('oh', 682), ('open', 679), ('window', 670), ('good', 644), ('bookmarks', 598), ('teen', 587), ('well', 586), ('firebird', 583), ('cell', 577), ('right', 576), ('go', 564), ('work', 537), ('bar', 536), ('menu', 530), ('tab', 529), ('lady', 524), ('toolbar', 518), ('boy', 488), ('want', 485), ('think', 484), ('browser', 484), ('jack', 483), ('bookmark', 482), ('old', 475), ('really', 473), ('going', 460), ('download', 442), ('url', 440), ('back', 434), ('time', 432), ('black', 422), ('manager', 420), ('little', 419), ('got', 409), ('crash', 396)]\n"
     ]
    }
   ],
   "source": [
    "#Top 50 from Web_text\n",
    "web = []\n",
    "web.extend(webtext.words('firefox.txt'))\n",
    "web.extend(webtext.words('grail.txt'))\n",
    "web.extend(webtext.words('overheard.txt'))\n",
    "web.extend(webtext.words('pirates.txt'))\n",
    "web.extend(webtext.words('singles.txt'))\n",
    "web.extend(webtext.words('wine.txt'))\n",
    "\n",
    "webCount = [w.lower() for w in web]\n",
    "fil_web = [y for y in webCount if y not in stopwords.words('english')]\n",
    "fil_web = [u for u in fil_web if u not in pun]\n",
    "count1 = Counter(fil_web)\n",
    "print (count1.most_common(50))"
   ]
  },
  {
   "cell_type": "code",
   "execution_count": 6,
   "metadata": {
    "collapsed": false
   },
   "outputs": [
    {
     "name": "stdout",
     "output_type": "stream",
     "text": [
      "[('haue', 448), ('brutus', 162), ('vpon', 162), ('bru', 153), ('hath', 144)]\n"
     ]
    }
   ],
   "source": [
    "#Top 5 words that we do not use currently.\n",
    "Top5 = [t for t in fil_shake if t not in fil_web]     #Filtering the top 5 currently not used words.\n",
    "count2 = Counter(Top5)\n",
    "print (count2.most_common(5))"
   ]
  }
 ],
 "metadata": {
  "anaconda-cloud": {},
  "kernelspec": {
   "display_name": "Python [default]",
   "language": "python",
   "name": "python3"
  },
  "language_info": {
   "codemirror_mode": {
    "name": "ipython",
    "version": 3
   },
   "file_extension": ".py",
   "mimetype": "text/x-python",
   "name": "python",
   "nbconvert_exporter": "python",
   "pygments_lexer": "ipython3",
   "version": "3.5.2"
  }
 },
 "nbformat": 4,
 "nbformat_minor": 1
}
