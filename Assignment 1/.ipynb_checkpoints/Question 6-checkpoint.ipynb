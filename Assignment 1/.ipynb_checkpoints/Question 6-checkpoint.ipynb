{
 "cells": [
  {
   "cell_type": "markdown",
   "metadata": {
    "collapsed": true
   },
   "source": [
    "# Question 6\n",
    "- Under Inaugural Address package\n",
    "  For every president, find out how many unique words they used in speech. \n",
    "  We will just assume that President Bush means one person (technically it is incorrect but we will ignore it)\n"
   ]
  },
  {
   "cell_type": "code",
   "execution_count": 4,
   "metadata": {
    "collapsed": true
   },
   "outputs": [],
   "source": [
    "from nltk.corpus import inaugural"
   ]
  },
  {
   "cell_type": "code",
   "execution_count": 11,
   "metadata": {
    "collapsed": false
   },
   "outputs": [
    {
     "name": "stdout",
     "output_type": "stream",
     "text": [
      "President: Taylor -> 499\n",
      "President: Carter -> 529\n",
      "President: Kennedy -> 570\n",
      "President: Johnson -> 571\n",
      "President: Washington -> 724\n",
      "President: Truman -> 781\n",
      "President: Hayes -> 832\n",
      "President: Obama -> 938\n",
      "President: Buchanan -> 948\n",
      "President: Jackson -> 1019\n",
      "President: Garfield -> 1022\n",
      "President: Grant -> 1042\n",
      "President: Madison -> 1079\n",
      "President: Hoover -> 1087\n",
      "President: Pierce -> 1168\n",
      "President: Harding -> 1170\n",
      "President: Wilson -> 1210\n",
      "President: Coolidge -> 1221\n",
      "President: Nixon -> 1288\n",
      "President: VanBuren -> 1318\n",
      "President: Polk -> 1333\n",
      "President: Clinton -> 1417\n",
      "President: Taft -> 1439\n",
      "President: Lincoln -> 1441\n",
      "President: Cleveland -> 1496\n",
      "President: Eisenhower -> 1521\n",
      "President: Jefferson -> 1523\n",
      "President: Reagan -> 1831\n",
      "President: Adams -> 1835\n",
      "President: McKinley -> 2099\n",
      "President: Bush -> 2198\n",
      "President: Monroe -> 2306\n",
      "President: Roosevelt -> 2690\n",
      "President: Harrison -> 3251\n"
     ]
    }
   ],
   "source": [
    "p = inaugural.fileids()\n",
    "potus_speech = {}   \n",
    "\n",
    "for speech in p:\n",
    "    if speech[5:-4] not in potus_speech:                    #Checking for a president's name in the empty dictionary if not adding the word count.\n",
    "        uniqueWordCount = len(set(inaugural.words(speech))) #Checking the count of unique words\n",
    "        potus_speech[speech[5:-4]] = uniqueWordCount\n",
    "    else: \n",
    "        uniqueWordCount = len(set(inaugural.words(speech))) #If president's name is in the dictionary updating the word count.\n",
    "        potus_speech[speech[5:-4]] += uniqueWordCount\n",
    "\n",
    "for W in sorted(potus_speech,key=potus_speech.get,reverse=False): #Sorting the list in ascending order.\n",
    "    print(\"President:\",W,\"->\",potus_speech[W])"
   ]
  }
 ],
 "metadata": {
  "anaconda-cloud": {},
  "kernelspec": {
   "display_name": "Python [default]",
   "language": "python",
   "name": "python3"
  },
  "language_info": {
   "codemirror_mode": {
    "name": "ipython",
    "version": 3
   },
   "file_extension": ".py",
   "mimetype": "text/x-python",
   "name": "python",
   "nbconvert_exporter": "python",
   "pygments_lexer": "ipython3",
   "version": "3.5.2"
  }
 },
 "nbformat": 4,
 "nbformat_minor": 1
}
