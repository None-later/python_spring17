{
 "cells": [
  {
   "cell_type": "markdown",
   "metadata": {
    "collapsed": true
   },
   "source": [
    "# Question 4\n",
    "- Under package nps_chat, see what files are in it.\n",
    "- Find 'user121' and see how many posts he posted in all.\n",
    "- Find out how many unique user in each age range group. (20s, 30s,...)(Hint: files' name)\n"
   ]
  },
  {
   "cell_type": "code",
   "execution_count": 3,
   "metadata": {
    "collapsed": false
   },
   "outputs": [],
   "source": [
    "from nltk.corpus import nps_chat"
   ]
  },
  {
   "cell_type": "code",
   "execution_count": 4,
   "metadata": {
    "collapsed": false
   },
   "outputs": [
    {
     "data": {
      "text/plain": [
       "['10-19-20s_706posts.xml',\n",
       " '10-19-30s_705posts.xml',\n",
       " '10-19-40s_686posts.xml',\n",
       " '10-19-adults_706posts.xml',\n",
       " '10-24-40s_706posts.xml',\n",
       " '10-26-teens_706posts.xml',\n",
       " '11-06-adults_706posts.xml',\n",
       " '11-08-20s_705posts.xml',\n",
       " '11-08-40s_706posts.xml',\n",
       " '11-08-adults_705posts.xml',\n",
       " '11-08-teens_706posts.xml',\n",
       " '11-09-20s_706posts.xml',\n",
       " '11-09-40s_706posts.xml',\n",
       " '11-09-adults_706posts.xml',\n",
       " '11-09-teens_706posts.xml']"
      ]
     },
     "execution_count": 4,
     "metadata": {},
     "output_type": "execute_result"
    }
   ],
   "source": [
    "nps_chat.fileids()"
   ]
  },
  {
   "cell_type": "code",
   "execution_count": 5,
   "metadata": {
    "collapsed": false
   },
   "outputs": [
    {
     "name": "stdout",
     "output_type": "stream",
     "text": [
      "132\n"
     ]
    }
   ],
   "source": [
    "#No of posts posted by User121\n",
    "postcount=0\n",
    "po = nps_chat.xml_posts()\n",
    "for p in po:                              #Checking each post if the username ends with 'User121' and incrementing the count.\n",
    "    if p.get(\"user\").endswith('User121'):\n",
    "        postcount+=1\n",
    "print(postcount)"
   ]
  },
  {
   "cell_type": "code",
   "execution_count": 7,
   "metadata": {
    "collapsed": false
   },
   "outputs": [],
   "source": [
    "#No of unique user in each age range group\n",
    "user20s =[]\n",
    "user30s =[]\n",
    "user40s =[]\n",
    "userAdults =[]\n",
    "userTeens =[]\n",
    "\n",
    "po = nps_chat.xml_posts()\n",
    "for p in po:                               #Checking each post the age group mentioned in the username and incrementing their respective count.\n",
    "    if \"20sUser\" in p.get(\"user\"):\n",
    "        username = p.get(\"user\")[6:]\n",
    "        user20s.append(username)\n",
    "    elif \"30sUser\" in p.get(\"user\"):\n",
    "        username = p.get(\"user\")[6:]\n",
    "        user30s.append(username)\n",
    "    elif \"40sUser\" in p.get(\"user\"):\n",
    "        username = p.get(\"user\")[6:]\n",
    "        user40s.append(username)\n",
    "    elif \"adultsUser\" in p.get(\"user\"):\n",
    "        username = p.get(\"user\")[6:]\n",
    "        userAdults.append(username)\n",
    "    elif \"teensUser\" in p.get(\"user\"):\n",
    "        username = p.get(\"user\")[6:]\n",
    "        userTeens.append(username)\n",
    "        \n"
   ]
  },
  {
   "cell_type": "code",
   "execution_count": 8,
   "metadata": {
    "collapsed": false
   },
   "outputs": [
    {
     "name": "stdout",
     "output_type": "stream",
     "text": [
      "No of unique user in each age range group are : \n",
      " Teens -> 206 \n",
      " 20s -> 162 \n",
      " 30s -> 44 \n",
      " 40s -> 80 \n",
      " Adults -> 138\n"
     ]
    }
   ],
   "source": [
    "print(\"No of unique user in each age range group are :\",\"\\n\",\"Teens ->\",len(set(userTeens)),\"\\n\",\"20s ->\",len(set(user20s)),\"\\n\",\"30s ->\",len(set(user30s)),\"\\n\",\"40s ->\",len(set(user40s)),\"\\n\",\"Adults ->\",len(set(userAdults)) )"
   ]
  }
 ],
 "metadata": {
  "anaconda-cloud": {},
  "kernelspec": {
   "display_name": "Python [default]",
   "language": "python",
   "name": "python3"
  },
  "language_info": {
   "codemirror_mode": {
    "name": "ipython",
    "version": 3
   },
   "file_extension": ".py",
   "mimetype": "text/x-python",
   "name": "python",
   "nbconvert_exporter": "python",
   "pygments_lexer": "ipython3",
   "version": "3.5.2"
  }
 },
 "nbformat": 4,
 "nbformat_minor": 1
}
