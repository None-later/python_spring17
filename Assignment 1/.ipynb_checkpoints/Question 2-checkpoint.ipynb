{
 "cells": [
  {
   "cell_type": "markdown",
   "metadata": {
    "collapsed": true
   },
   "source": [
    "# Question 2\n",
    "- Under package Gutenberg get content from file 'melville-moby_dick.txt.' (HINT: Words? Raw?)\n",
    "- Find out frequency of 26 characters. (Turn uppercase into lowercase and count as one character)\n",
    "- List all 26 characters in order base on their frequency. (From most frequent to least frequent)\n",
    "Try NOT to use FreqDist module.\n"
   ]
  },
  {
   "cell_type": "code",
   "execution_count": 1,
   "metadata": {
    "collapsed": true
   },
   "outputs": [],
   "source": [
    "from nltk.corpus import gutenberg"
   ]
  },
  {
   "cell_type": "code",
   "execution_count": 18,
   "metadata": {
    "collapsed": false
   },
   "outputs": [],
   "source": [
    "mlow = [m.lower() for m in gutenberg.raw('melville-moby_dick.txt')]"
   ]
  },
  {
   "cell_type": "code",
   "execution_count": 27,
   "metadata": {
    "collapsed": false
   },
   "outputs": [
    {
     "name": "stdout",
     "output_type": "stream",
     "text": [
      "e 117092\n",
      "t 87996\n",
      "a 77916\n",
      "o 69326\n",
      "n 65617\n",
      "i 65434\n",
      "s 64231\n",
      "h 62896\n",
      "r 52134\n",
      "l 42793\n",
      "d 38219\n",
      "u 26697\n",
      "m 23277\n",
      "c 22507\n",
      "w 22222\n",
      "f 20833\n",
      "g 20820\n",
      "p 17255\n",
      "b 16877\n",
      "y 16872\n",
      "v 8598\n",
      "k 8059\n",
      "q 1556\n",
      "j 1082\n",
      "x 1030\n",
      "z 632\n"
     ]
    }
   ],
   "source": [
    "import string\n",
    "cfreq = dict.fromkeys(string.ascii_lowercase, 0)\n",
    "\n",
    "for c in mlow:\n",
    "    if c in cfreq:\n",
    "        cfreq[c] +=1\n",
    "\n",
    "for v in sorted(cfreq,key=cfreq.get,reverse=True):\n",
    "    print(v,cfreq[v])\n"
   ]
  },
  {
   "cell_type": "code",
   "execution_count": null,
   "metadata": {
    "collapsed": true
   },
   "outputs": [],
   "source": []
  }
 ],
 "metadata": {
  "anaconda-cloud": {},
  "kernelspec": {
   "display_name": "Python [default]",
   "language": "python",
   "name": "python3"
  },
  "language_info": {
   "codemirror_mode": {
    "name": "ipython",
    "version": 3
   },
   "file_extension": ".py",
   "mimetype": "text/x-python",
   "name": "python",
   "nbconvert_exporter": "python",
   "pygments_lexer": "ipython3",
   "version": "3.5.2"
  }
 },
 "nbformat": 4,
 "nbformat_minor": 1
}
