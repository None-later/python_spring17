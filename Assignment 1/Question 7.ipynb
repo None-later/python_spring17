{
 "cells": [
  {
   "cell_type": "markdown",
   "metadata": {
    "collapsed": true
   },
   "source": [
    "# Question 7\n",
    "- Use Name corpus, calculate the probability of a name being of a male or female base on the last character(s) of name.\n",
    "- Sample steps:\n",
    "  1. For char ‘a’:\n",
    "    total_names = sum(names ending with ‘a’)\n",
    "\tmale_names = sum(male names ending with ‘a’)\n",
    "\tfemale_names = sum(female names ending with ‘a’)\n",
    "\tProbability of name being male = 100 * male_names / total_names\n",
    "  2. Do this for all characters. \n",
    "- Output must come with proper title (e.g. [a] male: 25%, female: 60%)\n"
   ]
  },
  {
   "cell_type": "code",
   "execution_count": 1,
   "metadata": {
    "collapsed": true
   },
   "outputs": [],
   "source": [
    "from nltk.corpus import names"
   ]
  },
  {
   "cell_type": "code",
   "execution_count": 3,
   "metadata": {
    "collapsed": false
   },
   "outputs": [
    {
     "data": {
      "text/plain": [
       "['female.txt', 'male.txt']"
      ]
     },
     "execution_count": 3,
     "metadata": {},
     "output_type": "execute_result"
    }
   ],
   "source": [
    "names.fileids()"
   ]
  },
  {
   "cell_type": "code",
   "execution_count": 44,
   "metadata": {
    "collapsed": false
   },
   "outputs": [],
   "source": [
    "L_male= {}\n",
    "for last in names.words(\"male.txt\"): #Traversing through the list of male names.\n",
    "    if last[-1] not in L_male:       #Checking the last letter and adding the count to L_male dictionary. \n",
    "        L_male[last[-1]]=1\n",
    "    else:\n",
    "        L_male[last[-1]]+=1"
   ]
  },
  {
   "cell_type": "code",
   "execution_count": 85,
   "metadata": {
    "collapsed": false
   },
   "outputs": [
    {
     "name": "stdout",
     "output_type": "stream",
     "text": [
      "n 478\n",
      "e 468\n",
      "y 332\n",
      "s 230\n",
      "d 228\n",
      "r 190\n",
      "l 187\n",
      "o 165\n",
      "t 164\n",
      "h 93\n",
      "m 70\n",
      "k 69\n",
      "i 50\n",
      "g 32\n",
      "a 29\n",
      "c 25\n",
      "f 25\n",
      "b 21\n",
      "p 18\n",
      "w 17\n",
      "v 16\n",
      "u 12\n",
      "z 11\n",
      "x 10\n",
      "j 3\n",
      "q 0\n"
     ]
    }
   ],
   "source": [
    "import string\n",
    "alphabets = dict.fromkeys(string.ascii_lowercase)   #Created a dictionary of all the alphabets.\n",
    "missing_letters = {}  \n",
    "\n",
    "for alpha in alphabets:                             #Checking which alphabet is missing from the list of last letters.\n",
    "    if alpha not in L_male:                         #Adding the count of 0 to the alphabet which is not the list.\n",
    "        L_male.update({alpha:0})\n",
    "\n",
    "for m in sorted(L_male,key=L_male.get,reverse=True):\n",
    "    print(m,L_male[m])"
   ]
  },
  {
   "cell_type": "code",
   "execution_count": null,
   "metadata": {
    "collapsed": true
   },
   "outputs": [],
   "source": []
  },
  {
   "cell_type": "code",
   "execution_count": 48,
   "metadata": {
    "collapsed": false
   },
   "outputs": [],
   "source": [
    "L_female= {}\n",
    "for last in names.words(\"female.txt\"): #Traversing through the list of male names.\n",
    "    if last[-1] not in L_female:       #Checking the last letter and adding the count to L_male dictionary.\n",
    "        L_female[last[-1]]=1\n",
    "    else:\n",
    "        L_female[last[-1]]+=1"
   ]
  },
  {
   "cell_type": "code",
   "execution_count": 84,
   "metadata": {
    "collapsed": false
   },
   "outputs": [
    {
     "name": "stdout",
     "output_type": "stream",
     "text": [
      "a 1773\n",
      "e 1432\n",
      "y 461\n",
      "n 386\n",
      "i 317\n",
      "l 179\n",
      "h 105\n",
      "s 93\n",
      "t 68\n",
      "r 47\n",
      "d 39\n",
      "o 33\n",
      "m 13\n",
      "g 10\n",
      "x 10\n",
      "b 9\n",
      "u 6\n",
      "w 5\n",
      "z 4\n",
      "k 3\n",
      "f 2\n",
      "v 2\n",
      "p 2\n",
      "j 1\n",
      "  1\n",
      "q 0\n",
      "c 0\n"
     ]
    }
   ],
   "source": [
    "for alpha in alphabets:                  \n",
    "    if alpha not in L_female:          #Checking which alphabet is missing from the list of last letters.\n",
    "        L_female.update({alpha:0})     #Adding the count of 0 to the alphabet which is not the list.\n",
    "\n",
    "for f in sorted(L_female,key=L_female.get,reverse=True):\n",
    "    print(f,L_female[f])"
   ]
  },
  {
   "cell_type": "code",
   "execution_count": 86,
   "metadata": {
    "collapsed": false
   },
   "outputs": [
    {
     "name": "stdout",
     "output_type": "stream",
     "text": [
      "[ a ] Male: 2 % Female: 98 %\n",
      "[ b ] Male: 70 % Female: 30 %\n",
      "[ c ] Male: 100 % Female: 0 %\n",
      "[ d ] Male: 85 % Female: 15 %\n",
      "[ e ] Male: 25 % Female: 75 %\n",
      "[ f ] Male: 93 % Female: 7 %\n",
      "[ g ] Male: 76 % Female: 24 %\n",
      "[ h ] Male: 47 % Female: 53 %\n",
      "[ i ] Male: 14 % Female: 86 %\n",
      "[ j ] Male: 75 % Female: 25 %\n",
      "[ k ] Male: 96 % Female: 4 %\n",
      "[ l ] Male: 51 % Female: 49 %\n",
      "[ m ] Male: 84 % Female: 16 %\n",
      "[ n ] Male: 55 % Female: 45 %\n",
      "[ o ] Male: 83 % Female: 17 %\n",
      "[ p ] Male: 90 % Female: 10 %\n",
      "[ q ] No names ends with this letter!!\n",
      "[ r ] Male: 80 % Female: 20 %\n",
      "[ s ] Male: 71 % Female: 29 %\n",
      "[ t ] Male: 71 % Female: 29 %\n",
      "[ u ] Male: 67 % Female: 33 %\n",
      "[ v ] Male: 89 % Female: 11 %\n",
      "[ w ] Male: 77 % Female: 23 %\n",
      "[ x ] Male: 50 % Female: 50 %\n",
      "[ y ] Male: 42 % Female: 58 %\n",
      "[ z ] Male: 73 % Female: 27 %\n"
     ]
    }
   ],
   "source": [
    "for alpha in sorted(alphabets): #Calculating the percentage for each alphabet in the male and female list.\n",
    "    for m in L_male:\n",
    "        if m == alpha:\n",
    "            for f in L_female:\n",
    "                if f == alpha:\n",
    "                     try:\n",
    "                        print(\"[\",alpha,\"]\",\"Male:\",round((L_male[m]/(L_male[m]+L_female[f]))*100),\"%\",\"Female:\",round((L_female[f]/(L_male[m]+L_female[f]))*100),\"%\")\n",
    "                     except ZeroDivisionError:\n",
    "                        print(\"[\",alpha,\"]\",'No names ends with this letter!!' )"
   ]
  }
 ],
 "metadata": {
  "anaconda-cloud": {},
  "kernelspec": {
   "display_name": "Python [default]",
   "language": "python",
   "name": "python3"
  },
  "language_info": {
   "codemirror_mode": {
    "name": "ipython",
    "version": 3
   },
   "file_extension": ".py",
   "mimetype": "text/x-python",
   "name": "python",
   "nbconvert_exporter": "python",
   "pygments_lexer": "ipython3",
   "version": "3.5.2"
  }
 },
 "nbformat": 4,
 "nbformat_minor": 1
}
