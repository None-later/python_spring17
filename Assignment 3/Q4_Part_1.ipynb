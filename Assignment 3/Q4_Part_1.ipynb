{
 "cells": [
  {
   "cell_type": "code",
   "execution_count": 2,
   "metadata": {
    "collapsed": true
   },
   "outputs": [],
   "source": [
    "import pandas as pd"
   ]
  },
  {
   "cell_type": "code",
   "execution_count": 6,
   "metadata": {
    "collapsed": false
   },
   "outputs": [
    {
     "data": {
      "text/html": [
       "<div>\n",
       "<table border=\"1\" class=\"dataframe\">\n",
       "  <thead>\n",
       "    <tr style=\"text-align: right;\">\n",
       "      <th></th>\n",
       "      <th>totalSeasons</th>\n",
       "      <th>Plot</th>\n",
       "      <th>Rated</th>\n",
       "      <th>Response</th>\n",
       "      <th>Language</th>\n",
       "      <th>Title</th>\n",
       "      <th>Country</th>\n",
       "      <th>Writer</th>\n",
       "      <th>Metascore</th>\n",
       "      <th>imdbRating</th>\n",
       "      <th>...</th>\n",
       "      <th>Released</th>\n",
       "      <th>Actors</th>\n",
       "      <th>Year</th>\n",
       "      <th>Genre</th>\n",
       "      <th>Awards</th>\n",
       "      <th>Runtime</th>\n",
       "      <th>Type</th>\n",
       "      <th>Poster</th>\n",
       "      <th>imdbVotes</th>\n",
       "      <th>imdbID</th>\n",
       "    </tr>\n",
       "  </thead>\n",
       "  <tbody>\n",
       "    <tr>\n",
       "      <th>0</th>\n",
       "      <td>none</td>\n",
       "      <td>NaN</td>\n",
       "      <td>NaN</td>\n",
       "      <td>True</td>\n",
       "      <td>English</td>\n",
       "      <td>Book of Love: The Definitive Reason Why Men Ar...</td>\n",
       "      <td>USA</td>\n",
       "      <td>Jeffrey W. Byrd; Eric George</td>\n",
       "      <td>NaN</td>\n",
       "      <td>6.6</td>\n",
       "      <td>...</td>\n",
       "      <td>14 Feb 2002</td>\n",
       "      <td>40 Glocc; Angelle Brooks; David Brown; Qadr Ca...</td>\n",
       "      <td>2002</td>\n",
       "      <td>Romance; Comedy</td>\n",
       "      <td>NaN</td>\n",
       "      <td>91 min</td>\n",
       "      <td>movie</td>\n",
       "      <td>NaN</td>\n",
       "      <td>79.0</td>\n",
       "      <td>tt0156376</td>\n",
       "    </tr>\n",
       "    <tr>\n",
       "      <th>1</th>\n",
       "      <td>none</td>\n",
       "      <td>NaN</td>\n",
       "      <td>NaN</td>\n",
       "      <td>True</td>\n",
       "      <td>Swedish</td>\n",
       "      <td>Anderssons älskarinna</td>\n",
       "      <td>Sweden</td>\n",
       "      <td>NaN</td>\n",
       "      <td>NaN</td>\n",
       "      <td>7.4</td>\n",
       "      <td>...</td>\n",
       "      <td>12 Feb 2001</td>\n",
       "      <td>Jakob Eklund; Ebba Forsberg; Örjan Landström; ...</td>\n",
       "      <td>2001</td>\n",
       "      <td>Drama</td>\n",
       "      <td>NaN</td>\n",
       "      <td>347 min</td>\n",
       "      <td>movie</td>\n",
       "      <td>NaN</td>\n",
       "      <td>34.0</td>\n",
       "      <td>tt0201374</td>\n",
       "    </tr>\n",
       "    <tr>\n",
       "      <th>2</th>\n",
       "      <td>none</td>\n",
       "      <td>NaN</td>\n",
       "      <td>NaN</td>\n",
       "      <td>True</td>\n",
       "      <td>English</td>\n",
       "      <td>Bad Blood</td>\n",
       "      <td>UK</td>\n",
       "      <td>Tony Marchant</td>\n",
       "      <td>NaN</td>\n",
       "      <td>5.6</td>\n",
       "      <td>...</td>\n",
       "      <td>11 Jan 2001</td>\n",
       "      <td>Emilia Fox; Serban Celea; Alex Jennings; Steve...</td>\n",
       "      <td>2001</td>\n",
       "      <td>NaN</td>\n",
       "      <td>NaN</td>\n",
       "      <td>NaN</td>\n",
       "      <td>movie</td>\n",
       "      <td>NaN</td>\n",
       "      <td>8.0</td>\n",
       "      <td>tt0207989</td>\n",
       "    </tr>\n",
       "  </tbody>\n",
       "</table>\n",
       "<p>3 rows × 21 columns</p>\n",
       "</div>"
      ],
      "text/plain": [
       "  totalSeasons Plot Rated Response Language  \\\n",
       "0         none  NaN   NaN     True  English   \n",
       "1         none  NaN   NaN     True  Swedish   \n",
       "2         none  NaN   NaN     True  English   \n",
       "\n",
       "                                               Title Country  \\\n",
       "0  Book of Love: The Definitive Reason Why Men Ar...     USA   \n",
       "1                              Anderssons älskarinna  Sweden   \n",
       "2                                          Bad Blood      UK   \n",
       "\n",
       "                         Writer  Metascore  imdbRating    ...      \\\n",
       "0  Jeffrey W. Byrd; Eric George        NaN         6.6    ...       \n",
       "1                           NaN        NaN         7.4    ...       \n",
       "2                 Tony Marchant        NaN         5.6    ...       \n",
       "\n",
       "      Released                                             Actors  Year  \\\n",
       "0  14 Feb 2002  40 Glocc; Angelle Brooks; David Brown; Qadr Ca...  2002   \n",
       "1  12 Feb 2001  Jakob Eklund; Ebba Forsberg; Örjan Landström; ...  2001   \n",
       "2  11 Jan 2001  Emilia Fox; Serban Celea; Alex Jennings; Steve...  2001   \n",
       "\n",
       "             Genre Awards  Runtime   Type Poster imdbVotes     imdbID  \n",
       "0  Romance; Comedy    NaN   91 min  movie    NaN      79.0  tt0156376  \n",
       "1            Drama    NaN  347 min  movie    NaN      34.0  tt0201374  \n",
       "2              NaN    NaN      NaN  movie    NaN       8.0  tt0207989  \n",
       "\n",
       "[3 rows x 21 columns]"
      ]
     },
     "execution_count": 6,
     "metadata": {},
     "output_type": "execute_result"
    }
   ],
   "source": [
    "df=pd.read_csv('movies_awards.csv',sep=',')\n",
    "df.head(3)"
   ]
  },
  {
   "cell_type": "code",
   "execution_count": 90,
   "metadata": {
    "collapsed": true
   },
   "outputs": [],
   "source": [
    "awards=df[['Title','Awards']]"
   ]
  },
  {
   "cell_type": "code",
   "execution_count": 92,
   "metadata": {
    "collapsed": false
   },
   "outputs": [],
   "source": [
    "awards=awards[awards['Awards'].isnull()==False ]  #awards.Awards.str.split('\\s+').str[0]"
   ]
  },
  {
   "cell_type": "code",
   "execution_count": 102,
   "metadata": {
    "collapsed": false
   },
   "outputs": [
    {
     "data": {
      "text/plain": [
       "False"
      ]
     },
     "execution_count": 102,
     "metadata": {},
     "output_type": "execute_result"
    }
   ],
   "source": [
    "'win' in awards['Awards'][:1]"
   ]
  },
  {
   "cell_type": "code",
   "execution_count": null,
   "metadata": {
    "collapsed": true
   },
   "outputs": [],
   "source": []
  },
  {
   "cell_type": "code",
   "execution_count": null,
   "metadata": {
    "collapsed": true
   },
   "outputs": [],
   "source": []
  },
  {
   "cell_type": "code",
   "execution_count": null,
   "metadata": {
    "collapsed": true
   },
   "outputs": [],
   "source": []
  },
  {
   "cell_type": "code",
   "execution_count": null,
   "metadata": {
    "collapsed": true
   },
   "outputs": [],
   "source": []
  },
  {
   "cell_type": "code",
   "execution_count": null,
   "metadata": {
    "collapsed": true
   },
   "outputs": [],
   "source": []
  },
  {
   "cell_type": "code",
   "execution_count": null,
   "metadata": {
    "collapsed": true
   },
   "outputs": [],
   "source": []
  },
  {
   "cell_type": "code",
   "execution_count": null,
   "metadata": {
    "collapsed": true
   },
   "outputs": [],
   "source": []
  },
  {
   "cell_type": "code",
   "execution_count": null,
   "metadata": {
    "collapsed": true
   },
   "outputs": [],
   "source": []
  },
  {
   "cell_type": "code",
   "execution_count": 95,
   "metadata": {
    "collapsed": false
   },
   "outputs": [],
   "source": [
    "a=pd.DataFrame(awards.Awards.str.split('&'))\n"
   ]
  },
  {
   "cell_type": "code",
   "execution_count": null,
   "metadata": {
    "collapsed": true
   },
   "outputs": [],
   "source": []
  },
  {
   "cell_type": "code",
   "execution_count": 93,
   "metadata": {
    "collapsed": false
   },
   "outputs": [
    {
     "data": {
      "text/html": [
       "<div>\n",
       "<table border=\"1\" class=\"dataframe\">\n",
       "  <thead>\n",
       "    <tr style=\"text-align: right;\">\n",
       "      <th></th>\n",
       "      <th>Title</th>\n",
       "      <th>Awards</th>\n",
       "    </tr>\n",
       "  </thead>\n",
       "  <tbody>\n",
       "    <tr>\n",
       "      <th>3</th>\n",
       "      <td>Who Are You?</td>\n",
       "      <td>1 win &amp; 2 nominations.</td>\n",
       "    </tr>\n",
       "    <tr>\n",
       "      <th>4</th>\n",
       "      <td>Skeletons in the Closet</td>\n",
       "      <td>1 win.</td>\n",
       "    </tr>\n",
       "    <tr>\n",
       "      <th>5</th>\n",
       "      <td>Cheerleader Ninjas</td>\n",
       "      <td>1 nomination.</td>\n",
       "    </tr>\n",
       "    <tr>\n",
       "      <th>6</th>\n",
       "      <td>The Girl from Paris</td>\n",
       "      <td>3 wins &amp; 2 nominations.</td>\n",
       "    </tr>\n",
       "    <tr>\n",
       "      <th>7</th>\n",
       "      <td>The Final Curtain</td>\n",
       "      <td>1 win &amp; 1 nomination.</td>\n",
       "    </tr>\n",
       "    <tr>\n",
       "      <th>11</th>\n",
       "      <td>Crazy/Beautiful</td>\n",
       "      <td>5 nominations.</td>\n",
       "    </tr>\n",
       "    <tr>\n",
       "      <th>13</th>\n",
       "      <td>The Anniversary Party</td>\n",
       "      <td>2 wins &amp; 5 nominations.</td>\n",
       "    </tr>\n",
       "    <tr>\n",
       "      <th>15</th>\n",
       "      <td>The Quiet American</td>\n",
       "      <td>Nominated for 1 Oscar. Another 13 wins &amp; 13 no...</td>\n",
       "    </tr>\n",
       "    <tr>\n",
       "      <th>18</th>\n",
       "      <td>Like Cat and Mouse</td>\n",
       "      <td>5 wins &amp; 4 nominations.</td>\n",
       "    </tr>\n",
       "    <tr>\n",
       "      <th>24</th>\n",
       "      <td>Punch-Drunk Love</td>\n",
       "      <td>Nominated for 1 Golden Globe. Another 14 wins ...</td>\n",
       "    </tr>\n",
       "    <tr>\n",
       "      <th>25</th>\n",
       "      <td>Romeo</td>\n",
       "      <td>3 wins &amp; 2 nominations.</td>\n",
       "    </tr>\n",
       "    <tr>\n",
       "      <th>28</th>\n",
       "      <td>Academia de baile Gloria</td>\n",
       "      <td>1 nomination.</td>\n",
       "    </tr>\n",
       "    <tr>\n",
       "      <th>31</th>\n",
       "      <td>Return to Never Land</td>\n",
       "      <td>5 nominations.</td>\n",
       "    </tr>\n",
       "    <tr>\n",
       "      <th>34</th>\n",
       "      <td>Better Luck Tomorrow</td>\n",
       "      <td>1 win &amp; 2 nominations.</td>\n",
       "    </tr>\n",
       "    <tr>\n",
       "      <th>37</th>\n",
       "      <td>A Grande Família</td>\n",
       "      <td>22 wins &amp; 44 nominations.</td>\n",
       "    </tr>\n",
       "    <tr>\n",
       "      <th>38</th>\n",
       "      <td>El lado oscuro del corazón 2</td>\n",
       "      <td>1 win &amp; 3 nominations.</td>\n",
       "    </tr>\n",
       "    <tr>\n",
       "      <th>39</th>\n",
       "      <td>Slap Shot 2: Breaking the Ice</td>\n",
       "      <td>1 win &amp; 8 nominations.</td>\n",
       "    </tr>\n",
       "    <tr>\n",
       "      <th>43</th>\n",
       "      <td>Van Wilder: Party Liaison</td>\n",
       "      <td>2 nominations.</td>\n",
       "    </tr>\n",
       "    <tr>\n",
       "      <th>47</th>\n",
       "      <td>Black Box BRD</td>\n",
       "      <td>6 wins &amp; 1 nomination.</td>\n",
       "    </tr>\n",
       "    <tr>\n",
       "      <th>50</th>\n",
       "      <td>24</td>\n",
       "      <td>Won 2 Golden Globes. Another 68 wins &amp; 201 nom...</td>\n",
       "    </tr>\n",
       "  </tbody>\n",
       "</table>\n",
       "</div>"
      ],
      "text/plain": [
       "                            Title  \\\n",
       "3                    Who Are You?   \n",
       "4         Skeletons in the Closet   \n",
       "5              Cheerleader Ninjas   \n",
       "6             The Girl from Paris   \n",
       "7               The Final Curtain   \n",
       "11                Crazy/Beautiful   \n",
       "13          The Anniversary Party   \n",
       "15             The Quiet American   \n",
       "18             Like Cat and Mouse   \n",
       "24               Punch-Drunk Love   \n",
       "25                          Romeo   \n",
       "28       Academia de baile Gloria   \n",
       "31           Return to Never Land   \n",
       "34           Better Luck Tomorrow   \n",
       "37               A Grande Família   \n",
       "38   El lado oscuro del corazón 2   \n",
       "39  Slap Shot 2: Breaking the Ice   \n",
       "43      Van Wilder: Party Liaison   \n",
       "47                  Black Box BRD   \n",
       "50                             24   \n",
       "\n",
       "                                               Awards  \n",
       "3                              1 win & 2 nominations.  \n",
       "4                                              1 win.  \n",
       "5                                       1 nomination.  \n",
       "6                             3 wins & 2 nominations.  \n",
       "7                               1 win & 1 nomination.  \n",
       "11                                     5 nominations.  \n",
       "13                            2 wins & 5 nominations.  \n",
       "15  Nominated for 1 Oscar. Another 13 wins & 13 no...  \n",
       "18                            5 wins & 4 nominations.  \n",
       "24  Nominated for 1 Golden Globe. Another 14 wins ...  \n",
       "25                            3 wins & 2 nominations.  \n",
       "28                                      1 nomination.  \n",
       "31                                     5 nominations.  \n",
       "34                             1 win & 2 nominations.  \n",
       "37                          22 wins & 44 nominations.  \n",
       "38                             1 win & 3 nominations.  \n",
       "39                             1 win & 8 nominations.  \n",
       "43                                     2 nominations.  \n",
       "47                             6 wins & 1 nomination.  \n",
       "50  Won 2 Golden Globes. Another 68 wins & 201 nom...  "
      ]
     },
     "execution_count": 93,
     "metadata": {},
     "output_type": "execute_result"
    }
   ],
   "source": [
    "awards.head(20)"
   ]
  },
  {
   "cell_type": "code",
   "execution_count": null,
   "metadata": {
    "collapsed": true
   },
   "outputs": [],
   "source": []
  },
  {
   "cell_type": "code",
   "execution_count": null,
   "metadata": {
    "collapsed": true
   },
   "outputs": [],
   "source": []
  },
  {
   "cell_type": "code",
   "execution_count": null,
   "metadata": {
    "collapsed": true
   },
   "outputs": [],
   "source": []
  },
  {
   "cell_type": "code",
   "execution_count": null,
   "metadata": {
    "collapsed": true
   },
   "outputs": [],
   "source": []
  }
 ],
 "metadata": {
  "anaconda-cloud": {},
  "kernelspec": {
   "display_name": "Python [default]",
   "language": "python",
   "name": "python3"
  },
  "language_info": {
   "codemirror_mode": {
    "name": "ipython",
    "version": 3
   },
   "file_extension": ".py",
   "mimetype": "text/x-python",
   "name": "python",
   "nbconvert_exporter": "python",
   "pygments_lexer": "ipython3",
   "version": "3.5.2"
  }
 },
 "nbformat": 4,
 "nbformat_minor": 2
}
