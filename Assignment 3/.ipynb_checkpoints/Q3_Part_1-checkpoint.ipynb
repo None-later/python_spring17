{
 "cells": [
  {
   "cell_type": "code",
   "execution_count": 44,
   "metadata": {
    "collapsed": true
   },
   "outputs": [],
   "source": [
    "import pandas as pd"
   ]
  },
  {
   "cell_type": "code",
   "execution_count": 45,
   "metadata": {
    "collapsed": false
   },
   "outputs": [
    {
     "data": {
      "text/html": [
       "<div>\n",
       "<table border=\"1\" class=\"dataframe\">\n",
       "  <thead>\n",
       "    <tr style=\"text-align: right;\">\n",
       "      <th></th>\n",
       "      <th>match_details</th>\n",
       "      <th>result</th>\n",
       "      <th>scores</th>\n",
       "      <th>date</th>\n",
       "      <th>venue</th>\n",
       "      <th>round</th>\n",
       "      <th>home</th>\n",
       "      <th>away</th>\n",
       "      <th>winner</th>\n",
       "      <th>win_by_runs</th>\n",
       "      <th>...</th>\n",
       "      <th>innings1_wickets</th>\n",
       "      <th>innings1_overs_batted</th>\n",
       "      <th>innings1_overs</th>\n",
       "      <th>innings2</th>\n",
       "      <th>innings2_runs</th>\n",
       "      <th>innings2_wickets</th>\n",
       "      <th>innings2_overs_batted</th>\n",
       "      <th>innings2_overs</th>\n",
       "      <th>D/L_method</th>\n",
       "      <th>target</th>\n",
       "    </tr>\n",
       "  </thead>\n",
       "  <tbody>\n",
       "    <tr>\n",
       "      <th>0</th>\n",
       "      <td>North Group:Durham v Nottinghamshire at Cheste...</td>\n",
       "      <td>Durham won by 6 wickets (with 5 balls remaining)</td>\n",
       "      <td>Nottinghamshire 157/7 (20/20 ov); Durham 160/4...</td>\n",
       "      <td>13/06/2003</td>\n",
       "      <td>Chester-le-Street</td>\n",
       "      <td>North Group</td>\n",
       "      <td>Durham</td>\n",
       "      <td>Nottinghamshire</td>\n",
       "      <td>Durham</td>\n",
       "      <td>NaN</td>\n",
       "      <td>...</td>\n",
       "      <td>7.0</td>\n",
       "      <td>20.0</td>\n",
       "      <td>20.0</td>\n",
       "      <td>Durham</td>\n",
       "      <td>160.0</td>\n",
       "      <td>4.0</td>\n",
       "      <td>19.1</td>\n",
       "      <td>20.0</td>\n",
       "      <td>NaN</td>\n",
       "      <td>NaN</td>\n",
       "    </tr>\n",
       "    <tr>\n",
       "      <th>1</th>\n",
       "      <td>South Group:Hampshire v Sussex at Southampton-...</td>\n",
       "      <td>Hampshire won by 5 runs</td>\n",
       "      <td>Hampshire 153 (19.4/20 ov); Sussex 148/7 (20/2...</td>\n",
       "      <td>13/06/2003</td>\n",
       "      <td>Southampton</td>\n",
       "      <td>South Group</td>\n",
       "      <td>Hampshire</td>\n",
       "      <td>Sussex</td>\n",
       "      <td>Hampshire</td>\n",
       "      <td>5.0</td>\n",
       "      <td>...</td>\n",
       "      <td>10.0</td>\n",
       "      <td>19.4</td>\n",
       "      <td>20.0</td>\n",
       "      <td>Sussex</td>\n",
       "      <td>148.0</td>\n",
       "      <td>7.0</td>\n",
       "      <td>20.0</td>\n",
       "      <td>20.0</td>\n",
       "      <td>NaN</td>\n",
       "      <td>NaN</td>\n",
       "    </tr>\n",
       "    <tr>\n",
       "      <th>2</th>\n",
       "      <td>Midlands/Wales/West Group:Somerset v Warwicksh...</td>\n",
       "      <td>Warwickshire won by 19 runs</td>\n",
       "      <td>Warwickshire 188/7 (20/20 ov); Somerset 169 (2...</td>\n",
       "      <td>13/06/2003</td>\n",
       "      <td>Taunton</td>\n",
       "      <td>Midlands/Wales/West Group</td>\n",
       "      <td>Somerset</td>\n",
       "      <td>Warwickshire</td>\n",
       "      <td>Warwickshire</td>\n",
       "      <td>19.0</td>\n",
       "      <td>...</td>\n",
       "      <td>7.0</td>\n",
       "      <td>20.0</td>\n",
       "      <td>20.0</td>\n",
       "      <td>Somerset</td>\n",
       "      <td>169.0</td>\n",
       "      <td>10.0</td>\n",
       "      <td>20.0</td>\n",
       "      <td>20.0</td>\n",
       "      <td>NaN</td>\n",
       "      <td>NaN</td>\n",
       "    </tr>\n",
       "  </tbody>\n",
       "</table>\n",
       "<p>3 rows × 24 columns</p>\n",
       "</div>"
      ],
      "text/plain": [
       "                                       match_details  \\\n",
       "0  North Group:Durham v Nottinghamshire at Cheste...   \n",
       "1  South Group:Hampshire v Sussex at Southampton-...   \n",
       "2  Midlands/Wales/West Group:Somerset v Warwicksh...   \n",
       "\n",
       "                                             result  \\\n",
       "0  Durham won by 6 wickets (with 5 balls remaining)   \n",
       "1                           Hampshire won by 5 runs   \n",
       "2                       Warwickshire won by 19 runs   \n",
       "\n",
       "                                              scores        date  \\\n",
       "0  Nottinghamshire 157/7 (20/20 ov); Durham 160/4...  13/06/2003   \n",
       "1  Hampshire 153 (19.4/20 ov); Sussex 148/7 (20/2...  13/06/2003   \n",
       "2  Warwickshire 188/7 (20/20 ov); Somerset 169 (2...  13/06/2003   \n",
       "\n",
       "               venue                      round       home             away  \\\n",
       "0  Chester-le-Street                North Group     Durham  Nottinghamshire   \n",
       "1        Southampton                South Group  Hampshire           Sussex   \n",
       "2            Taunton  Midlands/Wales/West Group   Somerset     Warwickshire   \n",
       "\n",
       "         winner  win_by_runs   ...    innings1_wickets  innings1_overs_batted  \\\n",
       "0        Durham          NaN   ...                 7.0                   20.0   \n",
       "1     Hampshire          5.0   ...                10.0                   19.4   \n",
       "2  Warwickshire         19.0   ...                 7.0                   20.0   \n",
       "\n",
       "  innings1_overs  innings2  innings2_runs  innings2_wickets  \\\n",
       "0           20.0    Durham          160.0               4.0   \n",
       "1           20.0    Sussex          148.0               7.0   \n",
       "2           20.0  Somerset          169.0              10.0   \n",
       "\n",
       "   innings2_overs_batted innings2_overs  D/L_method  target  \n",
       "0                   19.1           20.0         NaN     NaN  \n",
       "1                   20.0           20.0         NaN     NaN  \n",
       "2                   20.0           20.0         NaN     NaN  \n",
       "\n",
       "[3 rows x 24 columns]"
      ]
     },
     "execution_count": 45,
     "metadata": {},
     "output_type": "execute_result"
    }
   ],
   "source": [
    "df=pd.read_csv('cricket_matches.csv',sep=',')\n",
    "df.head(3)"
   ]
  },
  {
   "cell_type": "code",
   "execution_count": 46,
   "metadata": {
    "collapsed": true
   },
   "outputs": [],
   "source": [
    "cric_score=df[(df['home']==df['winner'])]\n",
    "cric_score=cric_score[['home','winner','innings1','innings1_runs','innings2','innings2_runs']]"
   ]
  },
  {
   "cell_type": "code",
   "execution_count": 47,
   "metadata": {
    "collapsed": true
   },
   "outputs": [],
   "source": [
    "cric_score['Score']=0\n",
    "pd.options.mode.chained_assignment = None #'warn'\n",
    "cric_score['Score'][(cric_score['home']==cric_score['innings1'])] = cric_score['innings1_runs']\n",
    "cric_score['Score'][(cric_score['home']==cric_score['innings2'])] = cric_score['innings2_runs']\n",
    "cric_score=cric_score[['home','Score']]"
   ]
  },
  {
   "cell_type": "code",
   "execution_count": 48,
   "metadata": {
    "collapsed": false
   },
   "outputs": [
    {
     "data": {
      "text/html": [
       "<div>\n",
       "<table border=\"1\" class=\"dataframe\">\n",
       "  <thead>\n",
       "    <tr style=\"text-align: right;\">\n",
       "      <th></th>\n",
       "      <th>Score</th>\n",
       "    </tr>\n",
       "    <tr>\n",
       "      <th>home</th>\n",
       "      <th></th>\n",
       "    </tr>\n",
       "  </thead>\n",
       "  <tbody>\n",
       "    <tr>\n",
       "      <th>Abahani Limited</th>\n",
       "      <td>172.000000</td>\n",
       "    </tr>\n",
       "    <tr>\n",
       "      <th>Abbottabad Falcons</th>\n",
       "      <td>139.454545</td>\n",
       "    </tr>\n",
       "    <tr>\n",
       "      <th>Abbottabad Region</th>\n",
       "      <td>182.666667</td>\n",
       "    </tr>\n",
       "    <tr>\n",
       "      <th>Abbottabad Rhinos</th>\n",
       "      <td>165.000000</td>\n",
       "    </tr>\n",
       "    <tr>\n",
       "      <th>Adelaide Strikers</th>\n",
       "      <td>163.111111</td>\n",
       "    </tr>\n",
       "  </tbody>\n",
       "</table>\n",
       "</div>"
      ],
      "text/plain": [
       "                         Score\n",
       "home                          \n",
       "Abahani Limited     172.000000\n",
       "Abbottabad Falcons  139.454545\n",
       "Abbottabad Region   182.666667\n",
       "Abbottabad Rhinos   165.000000\n",
       "Adelaide Strikers   163.111111"
      ]
     },
     "execution_count": 48,
     "metadata": {},
     "output_type": "execute_result"
    }
   ],
   "source": [
    "cric_score=pd.DataFrame(cric_score.groupby(['home']).mean())\n",
    "cric_score.to_csv('Q3_Part_1_Output.csv')\n",
    "cric_score.head()"
   ]
  },
  {
   "cell_type": "code",
   "execution_count": null,
   "metadata": {
    "collapsed": true
   },
   "outputs": [],
   "source": []
  },
  {
   "cell_type": "code",
   "execution_count": null,
   "metadata": {
    "collapsed": true
   },
   "outputs": [],
   "source": []
  }
 ],
 "metadata": {
  "anaconda-cloud": {},
  "kernelspec": {
   "display_name": "Python [default]",
   "language": "python",
   "name": "python3"
  },
  "language_info": {
   "codemirror_mode": {
    "name": "ipython",
    "version": 3
   },
   "file_extension": ".py",
   "mimetype": "text/x-python",
   "name": "python",
   "nbconvert_exporter": "python",
   "pygments_lexer": "ipython3",
   "version": "3.5.2"
  }
 },
 "nbformat": 4,
 "nbformat_minor": 2
}
