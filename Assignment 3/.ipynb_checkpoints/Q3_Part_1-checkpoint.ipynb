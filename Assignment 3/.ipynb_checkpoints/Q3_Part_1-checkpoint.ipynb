{
 "cells": [
  {
   "cell_type": "code",
   "execution_count": 1,
   "metadata": {
    "collapsed": true
   },
   "outputs": [],
   "source": [
    "import pandas as pd"
   ]
  },
  {
   "cell_type": "code",
   "execution_count": 2,
   "metadata": {
    "collapsed": false
   },
   "outputs": [],
   "source": [
    "df=pd.read_csv('cricket_matches.csv',sep=',')"
   ]
  },
  {
   "cell_type": "code",
   "execution_count": 3,
   "metadata": {
    "collapsed": true
   },
   "outputs": [],
   "source": [
    "cric_score=df[(df['home']==df['winner'])]\n",
    "cric_score=cric_score[['home','winner','innings1','innings1_runs','innings2','innings2_runs']]"
   ]
  },
  {
   "cell_type": "code",
   "execution_count": 4,
   "metadata": {
    "collapsed": true
   },
   "outputs": [],
   "source": [
    "cric_score['Score']=0\n",
    "pd.options.mode.chained_assignment = None #'warn'\n",
    "cric_score['Score'][(cric_score['home']==cric_score['innings1'])] = cric_score['innings1_runs']\n",
    "cric_score['Score'][(cric_score['home']==cric_score['innings2'])] = cric_score['innings2_runs']\n",
    "cric_score=cric_score[['home','Score']]"
   ]
  },
  {
   "cell_type": "code",
   "execution_count": 5,
   "metadata": {
    "collapsed": false
   },
   "outputs": [
    {
     "name": "stdout",
     "output_type": "stream",
     "text": [
      "                         Score\n",
      "home                          \n",
      "Abahani Limited     172.000000\n",
      "Abbottabad Falcons  139.454545\n",
      "Abbottabad Region   182.666667\n",
      "Abbottabad Rhinos   165.000000\n",
      "Adelaide Strikers   163.111111\n"
     ]
    }
   ],
   "source": [
    "cric_score=pd.DataFrame(cric_score.groupby(['home']).mean())\n",
    "cric_score.to_csv('Q3_Part_1_Output.csv')\n",
    "print(cric_score.head())"
   ]
  }
 ],
 "metadata": {
  "anaconda-cloud": {},
  "kernelspec": {
   "display_name": "Python [default]",
   "language": "python",
   "name": "python3"
  },
  "language_info": {
   "codemirror_mode": {
    "name": "ipython",
    "version": 3
   },
   "file_extension": ".py",
   "mimetype": "text/x-python",
   "name": "python",
   "nbconvert_exporter": "python",
   "pygments_lexer": "ipython3",
   "version": "3.5.2"
  }
 },
 "nbformat": 4,
 "nbformat_minor": 2
}
