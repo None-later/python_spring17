{
 "cells": [
  {
   "cell_type": "code",
   "execution_count": 384,
   "metadata": {
    "collapsed": true
   },
   "outputs": [],
   "source": [
    "import pandas as pd\n",
    "import re\n",
    "import numpy as np"
   ]
  },
  {
   "cell_type": "code",
   "execution_count": 385,
   "metadata": {
    "collapsed": false
   },
   "outputs": [],
   "source": [
    "df=pd.read_csv('movies_awards.csv',sep=',')"
   ]
  },
  {
   "cell_type": "code",
   "execution_count": 386,
   "metadata": {
    "collapsed": true
   },
   "outputs": [],
   "source": [
    "mov_awards=df[['Awards']]\n",
    "mov_awards=mov_awards[mov_awards['Awards'].isnull()==False ]\n",
    "pd.options.mode.chained_assignment = None #'warn'"
   ]
  },
  {
   "cell_type": "code",
   "execution_count": 387,
   "metadata": {
    "collapsed": false
   },
   "outputs": [],
   "source": [
    "mov_awards['Awards_won']=mov_awards['Awards'].apply(lambda x : (re.findall(r\"(\\d+) win\", x)))\n",
    "mov_awards['Awards_won']=mov_awards['Awards_won'].apply(lambda x : [0] if len(x)==0 else x)\n",
    "mov_awards['Awards_won']=mov_awards['Awards_won'].apply(lambda x : list(map(int,x))[0])"
   ]
  },
  {
   "cell_type": "code",
   "execution_count": 388,
   "metadata": {
    "collapsed": true
   },
   "outputs": [],
   "source": [
    "mov_awards['Awards_nominated']=mov_awards['Awards'].apply(lambda x : (re.findall(r'(\\d+) nom', x)))\n",
    "mov_awards['Awards_nominated']=mov_awards['Awards_nominated'].apply(lambda x : [0] if len(x)==0 else x)\n",
    "mov_awards['Awards_nominated']=mov_awards['Awards_nominated'].apply(lambda x : list(map(int,x))[0])"
   ]
  },
  {
   "cell_type": "code",
   "execution_count": 389,
   "metadata": {
    "collapsed": true
   },
   "outputs": [],
   "source": [
    "mov_awards['Oscar_Awards_won']=mov_awards['Awards'].apply(lambda x : (re.findall(r'Won (\\d+) Oscar', x)))\n",
    "mov_awards['Oscar_Awards_won']=mov_awards['Oscar_Awards_won'].apply(lambda x : [0] if len(x)==0 else x)\n",
    "mov_awards['Oscar_Awards_won']=mov_awards['Oscar_Awards_won'].apply(lambda x : list(map(int,x))[0])"
   ]
  },
  {
   "cell_type": "code",
   "execution_count": 390,
   "metadata": {
    "collapsed": true
   },
   "outputs": [],
   "source": [
    "mov_awards['Golden_Globe_Awards_won']=mov_awards['Awards'].apply(lambda x : (re.findall(r'Won (\\d+) Golden', x)))\n",
    "mov_awards['Golden_Globe_Awards_won']=mov_awards['Golden_Globe_Awards_won'].apply(lambda x : [0] if len(x)==0 else x)\n",
    "mov_awards['Golden_Globe_Awards_won']=mov_awards['Golden_Globe_Awards_won'].apply(lambda x : list(map(int,x))[0])"
   ]
  },
  {
   "cell_type": "code",
   "execution_count": 391,
   "metadata": {
    "collapsed": true
   },
   "outputs": [],
   "source": [
    "mov_awards['Prime_Emmys_Awards_won']=mov_awards['Awards'].apply(lambda x : (re.findall(r'Won (\\d+) Prime', x)))\n",
    "mov_awards['Prime_Emmys_Awards_won']=mov_awards['Prime_Emmys_Awards_won'].apply(lambda x : [0] if len(x)==0 else x)\n",
    "mov_awards['Prime_Emmys_Awards_won']=mov_awards['Prime_Emmys_Awards_won'].apply(lambda x : list(map(int,x))[0])"
   ]
  },
  {
   "cell_type": "code",
   "execution_count": 392,
   "metadata": {
    "collapsed": true
   },
   "outputs": [],
   "source": [
    "mov_awards['BAFTA_Awards_won']=mov_awards['Awards'].apply(lambda x : (re.findall(r'Won (\\d+) BAFTA', x)))\n",
    "mov_awards['BAFTA_Awards_won']=mov_awards['BAFTA_Awards_won'].apply(lambda x : [0] if len(x)==0 else x)\n",
    "mov_awards['BAFTA_Awards_won']=mov_awards['BAFTA_Awards_won'].apply(lambda x : list(map(int,x))[0])"
   ]
  },
  {
   "cell_type": "code",
   "execution_count": 393,
   "metadata": {
    "collapsed": false
   },
   "outputs": [],
   "source": [
    "mov_awards['Oscar_Awards_nominated']=mov_awards['Awards'].apply(lambda x : (re.findall(r'Nominated for (\\d+) Oscar', x)))\n",
    "mov_awards['Oscar_Awards_nominated']=mov_awards['Oscar_Awards_nominated'].apply(lambda x : [0] if len(x)==0 else x)\n",
    "mov_awards['Oscar_Awards_nominated']=mov_awards['Oscar_Awards_nominated'].apply(lambda x : list(map(int,x))[0])"
   ]
  },
  {
   "cell_type": "code",
   "execution_count": 394,
   "metadata": {
    "collapsed": false
   },
   "outputs": [],
   "source": [
    "mov_awards['Golden_Globe_Awards_nominated']=mov_awards['Awards'].apply(lambda x : (re.findall(r'Nominated for (\\d+) Golden', x)))\n",
    "mov_awards['Golden_Globe_Awards_nominated']=mov_awards['Golden_Globe_Awards_nominated'].apply(lambda x : [0] if len(x)==0 else x)\n",
    "mov_awards['Golden_Globe_Awards_nominated']=mov_awards['Golden_Globe_Awards_nominated'].apply(lambda x : list(map(int,x))[0])"
   ]
  },
  {
   "cell_type": "code",
   "execution_count": 395,
   "metadata": {
    "collapsed": true
   },
   "outputs": [],
   "source": [
    "mov_awards['Prime_Emmys_Awards_nominated']=mov_awards['Awards'].apply(lambda x : (re.findall(r'Nominated for (\\d+) Prime', x)))\n",
    "mov_awards['Prime_Emmys_Awards_nominated']=mov_awards['Prime_Emmys_Awards_nominated'].apply(lambda x : [0] if len(x)==0 else x)\n",
    "mov_awards['Prime_Emmys_Awards_nominated']=mov_awards['Prime_Emmys_Awards_nominated'].apply(lambda x : list(map(int,x))[0])"
   ]
  },
  {
   "cell_type": "code",
   "execution_count": 396,
   "metadata": {
    "collapsed": true
   },
   "outputs": [],
   "source": [
    "mov_awards['BAFTA_Awards_nominated']=mov_awards['Awards'].apply(lambda x : (re.findall(r'Nominated for (\\d+) BAFTA', x)))\n",
    "mov_awards['BAFTA_Awards_nominated']=mov_awards['BAFTA_Awards_nominated'].apply(lambda x : [0] if len(x)==0 else x)\n",
    "mov_awards['BAFTA_Awards_nominated']=mov_awards['BAFTA_Awards_nominated'].apply(lambda x : list(map(int,x))[0])"
   ]
  },
  {
   "cell_type": "code",
   "execution_count": 397,
   "metadata": {
    "collapsed": true
   },
   "outputs": [],
   "source": [
    "mov_awards['Awards_won']=mov_awards['Awards_won']+mov_awards['Oscar_Awards_won']+mov_awards['Golden_Globe_Awards_won']+mov_awards['Prime_Emmys_Awards_won']+mov_awards['BAFTA_Awards_won']\n",
    "mov_awards['Awards_nominated']=mov_awards['Awards_nominated']+mov_awards['Oscar_Awards_nominated']+mov_awards['Golden_Globe_Awards_nominated']+mov_awards['Prime_Emmys_Awards_nominated']+mov_awards['BAFTA_Awards_nominated']"
   ]
  },
  {
   "cell_type": "code",
   "execution_count": 398,
   "metadata": {
    "collapsed": false
   },
   "outputs": [
    {
     "name": "stdout",
     "output_type": "stream",
     "text": [
      "                    Awards  Awards_won  Awards_nominated  Oscar_Awards_won  \\\n",
      "3   1 win & 2 nominations.           1                 2                 0   \n",
      "4                   1 win.           1                 0                 0   \n",
      "5            1 nomination.           0                 1                 0   \n",
      "6  3 wins & 2 nominations.           3                 2                 0   \n",
      "7    1 win & 1 nomination.           1                 1                 0   \n",
      "\n",
      "   Golden_Globe_Awards_won  Prime_Emmys_Awards_won  BAFTA_Awards_won  \\\n",
      "3                        0                       0                 0   \n",
      "4                        0                       0                 0   \n",
      "5                        0                       0                 0   \n",
      "6                        0                       0                 0   \n",
      "7                        0                       0                 0   \n",
      "\n",
      "   Oscar_Awards_nominated  Golden_Globe_Awards_nominated  \\\n",
      "3                       0                              0   \n",
      "4                       0                              0   \n",
      "5                       0                              0   \n",
      "6                       0                              0   \n",
      "7                       0                              0   \n",
      "\n",
      "   Prime_Emmys_Awards_nominated  BAFTA_Awards_nominated  \n",
      "3                             0                       0  \n",
      "4                             0                       0  \n",
      "5                             0                       0  \n",
      "6                             0                       0  \n",
      "7                             0                       0  \n"
     ]
    }
   ],
   "source": [
    "mov_awards.to_csv('Q4_Part_1_Output.csv',  index = False)\n",
    "print(mov_awards.head())"
   ]
  }
 ],
 "metadata": {
  "anaconda-cloud": {},
  "kernelspec": {
   "display_name": "Python [default]",
   "language": "python",
   "name": "python3"
  },
  "language_info": {
   "codemirror_mode": {
    "name": "ipython",
    "version": 3
   },
   "file_extension": ".py",
   "mimetype": "text/x-python",
   "name": "python",
   "nbconvert_exporter": "python",
   "pygments_lexer": "ipython3",
   "version": "3.5.2"
  }
 },
 "nbformat": 4,
 "nbformat_minor": 2
}
