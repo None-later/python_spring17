{
 "cells": [
  {
   "cell_type": "code",
   "execution_count": 1,
   "metadata": {
    "collapsed": true
   },
   "outputs": [],
   "source": [
    "import pandas as pd\n",
    "import datetime"
   ]
  },
  {
   "cell_type": "code",
   "execution_count": 2,
   "metadata": {
    "collapsed": false
   },
   "outputs": [],
   "source": [
    "df=pd.read_csv('vehicle_collisions.csv',sep=',')"
   ]
  },
  {
   "cell_type": "code",
   "execution_count": 3,
   "metadata": {
    "collapsed": false
   },
   "outputs": [],
   "source": [
    "df['DATE'] = pd.to_datetime(df['DATE'])\n",
    "ny_accident=df[(df['DATE']<\"1/1/17\")& (df['DATE']>\"12/31/15\")]\n",
    "man_accident=df[(df['DATE']<\"1/1/17\")& (df['DATE']>\"12/31/15\")&(df['BOROUGH']=='MANHATTAN')]"
   ]
  },
  {
   "cell_type": "code",
   "execution_count": 4,
   "metadata": {
    "collapsed": false
   },
   "outputs": [],
   "source": [
    "pd.options.mode.chained_assignment = None #'warn'\n",
    "ny_accident['MONTH']=ny_accident['DATE'].apply(lambda x : x.strftime(\"%b\"))"
   ]
  },
  {
   "cell_type": "code",
   "execution_count": 5,
   "metadata": {
    "collapsed": true
   },
   "outputs": [],
   "source": [
    "man_accident['MONTH']=man_accident['DATE'].apply(lambda x : x.strftime(\"%b\"))"
   ]
  },
  {
   "cell_type": "code",
   "execution_count": 6,
   "metadata": {
    "collapsed": false
   },
   "outputs": [
    {
     "name": "stdout",
     "output_type": "stream",
     "text": [
      "           0\n",
      "MONTH       \n",
      "Apr    18331\n",
      "Aug    19678\n",
      "Dec    19214\n",
      "Feb    15985\n",
      "Jan    18101\n"
     ]
    }
   ],
   "source": [
    "ny_accident=ny_accident[['MONTH','DATE','BOROUGH','UNIQUE KEY']]\n",
    "ny_count=pd.DataFrame(ny_accident.groupby(['MONTH']).size())\n",
    "print(ny_count.head())"
   ]
  },
  {
   "cell_type": "code",
   "execution_count": 7,
   "metadata": {
    "collapsed": false
   },
   "outputs": [
    {
     "name": "stdout",
     "output_type": "stream",
     "text": [
      "          0\n",
      "MONTH      \n",
      "Apr    3540\n",
      "Aug    2844\n",
      "Dec    2634\n",
      "Feb    3195\n",
      "Jan    3178\n"
     ]
    }
   ],
   "source": [
    "man_accident=man_accident[['MONTH','DATE','BOROUGH','UNIQUE KEY']]\n",
    "man_count=pd.DataFrame(man_accident.groupby(['MONTH']).size())\n",
    "print(man_count.head())"
   ]
  },
  {
   "cell_type": "code",
   "execution_count": 8,
   "metadata": {
    "collapsed": false
   },
   "outputs": [],
   "source": [
    "man_count.rename(columns={0: 'MANHATTAN'}, inplace=True)\n",
    "ny_count.rename(columns={0: 'NYC'}, inplace=True)\n",
    "percent_out=pd.concat([man_count, ny_count], axis=1, join='inner')"
   ]
  },
  {
   "cell_type": "code",
   "execution_count": 9,
   "metadata": {
    "collapsed": false
   },
   "outputs": [],
   "source": [
    "percent_out['PERCENTAGE']=percent_out['MANHATTAN']/percent_out['NYC']"
   ]
  },
  {
   "cell_type": "code",
   "execution_count": 10,
   "metadata": {
    "collapsed": false
   },
   "outputs": [
    {
     "name": "stdout",
     "output_type": "stream",
     "text": [
      "       MANHATTAN    NYC  PERCENTAGE\n",
      "MONTH                              \n",
      "Apr         3540  18331    0.193115\n",
      "Aug         2844  19678    0.144527\n",
      "Dec         2634  19214    0.137088\n",
      "Feb         3195  15985    0.199875\n",
      "Jan         3178  18101    0.175570\n"
     ]
    }
   ],
   "source": [
    "percent_out.to_csv('Q1_Part_1_Output.csv')\n",
    "print(percent_out.head())"
   ]
  }
 ],
 "metadata": {
  "anaconda-cloud": {},
  "kernelspec": {
   "display_name": "Python [default]",
   "language": "python",
   "name": "python3"
  },
  "language_info": {
   "codemirror_mode": {
    "name": "ipython",
    "version": 3
   },
   "file_extension": ".py",
   "mimetype": "text/x-python",
   "name": "python",
   "nbconvert_exporter": "python",
   "pygments_lexer": "ipython3",
   "version": "3.5.2"
  }
 },
 "nbformat": 4,
 "nbformat_minor": 2
}
