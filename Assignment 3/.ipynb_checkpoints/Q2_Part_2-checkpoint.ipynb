{
 "cells": [
  {
   "cell_type": "code",
   "execution_count": 1,
   "metadata": {
    "collapsed": true
   },
   "outputs": [],
   "source": [
    "import pandas as pd"
   ]
  },
  {
   "cell_type": "code",
   "execution_count": 2,
   "metadata": {
    "collapsed": false,
    "scrolled": true
   },
   "outputs": [],
   "source": [
    "df=pd.read_csv('employee_compensation.csv',sep=',')"
   ]
  },
  {
   "cell_type": "code",
   "execution_count": 3,
   "metadata": {
    "collapsed": false
   },
   "outputs": [],
   "source": [
    "job_comp=df[(df['Year Type']=='Calendar')]"
   ]
  },
  {
   "cell_type": "code",
   "execution_count": 4,
   "metadata": {
    "collapsed": false
   },
   "outputs": [],
   "source": [
    "job_comp=pd.DataFrame(job_comp.groupby(['Employee Identifier','Job Family']).mean())"
   ]
  },
  {
   "cell_type": "code",
   "execution_count": 5,
   "metadata": {
    "collapsed": false
   },
   "outputs": [],
   "source": [
    "job_comp.drop(['Year', 'Organization Group Code','Union Code'], axis=1, inplace=True)"
   ]
  },
  {
   "cell_type": "code",
   "execution_count": 6,
   "metadata": {
    "collapsed": false,
    "scrolled": true
   },
   "outputs": [
    {
     "name": "stdout",
     "output_type": "stream",
     "text": [
      "                                                       Salaries  Overtime  \\\n",
      "Employee Identifier Job Family                                              \n",
      "1                   Payroll, Billing & Accounting  40334.303333      0.00   \n",
      "2                   Protection & Apprehension      11061.700000      0.00   \n",
      "3                   Clerical, Secretarial & Steno  13722.000000    964.83   \n",
      "4                   Lab, Pharmacy & Med Techs      18574.880000      0.00   \n",
      "5                   Recreation                     19525.227500      0.00   \n",
      "\n",
      "                                                   Other Salaries  \\\n",
      "Employee Identifier Job Family                                      \n",
      "1                   Payroll, Billing & Accounting       29.673333   \n",
      "2                   Protection & Apprehension            0.000000   \n",
      "3                   Clerical, Secretarial & Steno        0.000000   \n",
      "4                   Lab, Pharmacy & Med Techs          210.000000   \n",
      "5                   Recreation                           5.177500   \n",
      "\n",
      "                                                   Total Salary   Retirement  \\\n",
      "Employee Identifier Job Family                                                 \n",
      "1                   Payroll, Billing & Accounting  40363.976667  8415.146667   \n",
      "2                   Protection & Apprehension      11061.700000  2058.580000   \n",
      "3                   Clerical, Secretarial & Steno  14686.830000  2498.760000   \n",
      "4                   Lab, Pharmacy & Med Techs      18784.880000  1463.340000   \n",
      "5                   Recreation                     19530.405000     0.000000   \n",
      "\n",
      "                                                   Health/Dental  \\\n",
      "Employee Identifier Job Family                                     \n",
      "1                   Payroll, Billing & Accounting       8626.160   \n",
      "2                   Protection & Apprehension           1768.100   \n",
      "3                   Clerical, Secretarial & Steno       2870.730   \n",
      "4                   Lab, Pharmacy & Med Techs           4829.960   \n",
      "5                   Recreation                          1341.605   \n",
      "\n",
      "                                                   Other Benefits  \\\n",
      "Employee Identifier Job Family                                      \n",
      "1                   Payroll, Billing & Accounting        3172.630   \n",
      "2                   Protection & Apprehension             853.530   \n",
      "3                   Clerical, Secretarial & Steno        1181.230   \n",
      "4                   Lab, Pharmacy & Med Techs            1448.095   \n",
      "5                   Recreation                           1543.940   \n",
      "\n",
      "                                                   Total Benefits  \\\n",
      "Employee Identifier Job Family                                      \n",
      "1                   Payroll, Billing & Accounting    20213.936667   \n",
      "2                   Protection & Apprehension         4680.210000   \n",
      "3                   Clerical, Secretarial & Steno     6550.720000   \n",
      "4                   Lab, Pharmacy & Med Techs         7741.395000   \n",
      "5                   Recreation                        2885.545000   \n",
      "\n",
      "                                                   Total Compensation  \n",
      "Employee Identifier Job Family                                         \n",
      "1                   Payroll, Billing & Accounting        60577.913333  \n",
      "2                   Protection & Apprehension            15741.910000  \n",
      "3                   Clerical, Secretarial & Steno        21237.550000  \n",
      "4                   Lab, Pharmacy & Med Techs            26526.275000  \n",
      "5                   Recreation                           22415.950000  \n"
     ]
    }
   ],
   "source": [
    "print(job_comp.head())"
   ]
  },
  {
   "cell_type": "code",
   "execution_count": 7,
   "metadata": {
    "collapsed": false
   },
   "outputs": [
    {
     "name": "stdout",
     "output_type": "stream",
     "text": [
      "                                                      Salaries    Overtime  \\\n",
      "Employee Identifier Job Family                                               \n",
      "3                   Clerical, Secretarial & Steno   13722.0000    964.8300   \n",
      "6                   Fire Services                  133842.7700  33892.2000   \n",
      "8                   Street Transit                  52510.0800   4106.9325   \n",
      "18                  Street Transit                  70408.0950  27338.1125   \n",
      "20                  Street Transit                  56586.1325   5763.4150   \n",
      "\n",
      "                                                   Other Salaries  \\\n",
      "Employee Identifier Job Family                                      \n",
      "3                   Clerical, Secretarial & Steno          0.0000   \n",
      "6                   Fire Services                      19926.6450   \n",
      "8                   Street Transit                      1248.6300   \n",
      "18                  Street Transit                      2081.7575   \n",
      "20                  Street Transit                       882.4150   \n",
      "\n",
      "                                                   Total Salary  Retirement  \\\n",
      "Employee Identifier Job Family                                                \n",
      "3                   Clerical, Secretarial & Steno    14686.8300   2498.7600   \n",
      "6                   Fire Services                   187661.6150  29394.5325   \n",
      "8                   Street Transit                   57865.6425  13885.2775   \n",
      "18                  Street Transit                   99827.9650  19194.0400   \n",
      "20                  Street Transit                   63231.9625  13241.0575   \n",
      "\n",
      "                                                   Health/Dental  \\\n",
      "Employee Identifier Job Family                                     \n",
      "3                   Clerical, Secretarial & Steno      2870.7300   \n",
      "6                   Fire Services                     15933.0600   \n",
      "8                   Street Transit                    10584.3025   \n",
      "18                  Street Transit                    14304.2000   \n",
      "20                  Street Transit                    12437.5775   \n",
      "\n",
      "                                                   Other Benefits  \\\n",
      "Employee Identifier Job Family                                      \n",
      "3                   Clerical, Secretarial & Steno       1181.2300   \n",
      "6                   Fire Services                       3103.6650   \n",
      "8                   Street Transit                      4354.0175   \n",
      "18                  Street Transit                      7545.3750   \n",
      "20                  Street Transit                      4823.9875   \n",
      "\n",
      "                                                   Total Benefits  \\\n",
      "Employee Identifier Job Family                                      \n",
      "3                   Clerical, Secretarial & Steno       6550.7200   \n",
      "6                   Fire Services                      48431.2575   \n",
      "8                   Street Transit                     28823.5975   \n",
      "18                  Street Transit                     41043.6150   \n",
      "20                  Street Transit                     30502.6225   \n",
      "\n",
      "                                                   Total Compensation  \n",
      "Employee Identifier Job Family                                         \n",
      "3                   Clerical, Secretarial & Steno          21237.5500  \n",
      "6                   Fire Services                         236092.8725  \n",
      "8                   Street Transit                         86689.2400  \n",
      "18                  Street Transit                        140871.5800  \n",
      "20                  Street Transit                         93734.5850  \n"
     ]
    }
   ],
   "source": [
    "overtime=job_comp[(job_comp['Overtime']>(.05*job_comp['Salaries']))]\n",
    "print(overtime.head())"
   ]
  },
  {
   "cell_type": "code",
   "execution_count": 8,
   "metadata": {
    "collapsed": false
   },
   "outputs": [],
   "source": [
    "top_family=overtime\n",
    "top_family=top_family.groupby([top_family.index.get_level_values(1)]).mean()"
   ]
  },
  {
   "cell_type": "code",
   "execution_count": 9,
   "metadata": {
    "collapsed": false
   },
   "outputs": [
    {
     "name": "stdout",
     "output_type": "stream",
     "text": [
      "                           Total Benefits  Total Compensation  \\\n",
      "Job Family                                                      \n",
      "Public Service Aide          12081.252503        34013.789743   \n",
      "Park & Zoo                   22168.769722        65363.664630   \n",
      "Energy & Environment         14254.410000        43219.500000   \n",
      "Revenue                      15629.204089        47641.781767   \n",
      "Museum & Cultural Affairs    27037.390000        83926.070000   \n",
      "\n",
      "                           Percent_Total_Benefit  \n",
      "Job Family                                        \n",
      "Public Service Aide                    35.518690  \n",
      "Park & Zoo                             33.916045  \n",
      "Energy & Environment                   32.981432  \n",
      "Revenue                                32.805667  \n",
      "Museum & Cultural Affairs              32.215723  \n"
     ]
    }
   ],
   "source": [
    "top_family=top_family[['Total Benefits','Total Compensation']]\n",
    "top_family['Percent_Total_Benefit']=100*(top_family['Total Benefits']/top_family['Total Compensation'])\n",
    "top_family=top_family.sort_values(['Percent_Total_Benefit'], ascending=[False])\n",
    "top_family.to_csv('Q2_Part_2_Output.csv')\n",
    "print(top_family.head(5))"
   ]
  }
 ],
 "metadata": {
  "anaconda-cloud": {},
  "kernelspec": {
   "display_name": "Python [default]",
   "language": "python",
   "name": "python3"
  },
  "language_info": {
   "codemirror_mode": {
    "name": "ipython",
    "version": 3
   },
   "file_extension": ".py",
   "mimetype": "text/x-python",
   "name": "python",
   "nbconvert_exporter": "python",
   "pygments_lexer": "ipython3",
   "version": "3.5.2"
  }
 },
 "nbformat": 4,
 "nbformat_minor": 2
}
