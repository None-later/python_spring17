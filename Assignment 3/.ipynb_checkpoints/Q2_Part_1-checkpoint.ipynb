{
 "cells": [
  {
   "cell_type": "code",
   "execution_count": 1,
   "metadata": {
    "collapsed": true
   },
   "outputs": [],
   "source": [
    "import pandas as pd"
   ]
  },
  {
   "cell_type": "code",
   "execution_count": 2,
   "metadata": {
    "collapsed": false
   },
   "outputs": [],
   "source": [
    "df=pd.read_csv('employee_compensation.csv',sep=',')"
   ]
  },
  {
   "cell_type": "code",
   "execution_count": 3,
   "metadata": {
    "collapsed": false
   },
   "outputs": [
    {
     "name": "stdout",
     "output_type": "stream",
     "text": [
      "                  Organization Group                      Department  \\\n",
      "0                   Community Health                   Public Health   \n",
      "5               Culture & Recreation                     Law Library   \n",
      "1               Culture & Recreation             Academy of Sciences   \n",
      "2               Culture & Recreation                 Arts Commission   \n",
      "8               Culture & Recreation                    War Memorial   \n",
      "3               Culture & Recreation                Asian Art Museum   \n",
      "6               Culture & Recreation                  Public Library   \n",
      "4               Culture & Recreation                Fine Arts Museum   \n",
      "7               Culture & Recreation  Recreation and Park Commission   \n",
      "11  General Administration & Finance                   City Attorney   \n",
      "\n",
      "    Total Compensation  \n",
      "0         96190.190140  \n",
      "5        188424.362222  \n",
      "1        107319.727692  \n",
      "2         94339.597388  \n",
      "8         76250.068022  \n",
      "3         71401.520060  \n",
      "6         70446.352147  \n",
      "4         44205.439895  \n",
      "7         38912.859465  \n",
      "11       166082.677561  \n"
     ]
    }
   ],
   "source": [
    "dept_comp=pd.DataFrame(df.groupby(['Organization Group','Department']).mean())\n",
    "dept_comp=dept_comp[['Total Compensation']]\n",
    "dept_comp.reset_index(level=(0,1), inplace=True)\n",
    "dept_comp=dept_comp.sort_values(by=['Organization Group','Total Compensation'],ascending=[True,False])\n",
    "dept_comp.reset_index()\n",
    "dept_comp.to_csv('Q2_Part_1_Output.csv',  index = False)\n",
    "print(dept_comp.head(10))"
   ]
  }
 ],
 "metadata": {
  "anaconda-cloud": {},
  "kernelspec": {
   "display_name": "Python [default]",
   "language": "python",
   "name": "python3"
  },
  "language_info": {
   "codemirror_mode": {
    "name": "ipython",
    "version": 3
   },
   "file_extension": ".py",
   "mimetype": "text/x-python",
   "name": "python",
   "nbconvert_exporter": "python",
   "pygments_lexer": "ipython3",
   "version": "3.5.2"
  }
 },
 "nbformat": 4,
 "nbformat_minor": 2
}
