{
 "cells": [
  {
   "cell_type": "code",
   "execution_count": 1,
   "metadata": {
    "collapsed": true
   },
   "outputs": [],
   "source": [
    "import pandas as pd\n",
    "import datetime"
   ]
  },
  {
   "cell_type": "code",
   "execution_count": 2,
   "metadata": {
    "collapsed": false
   },
   "outputs": [],
   "source": [
    "df=pd.read_csv('vehicle_collisions.csv',sep=',')"
   ]
  },
  {
   "cell_type": "code",
   "execution_count": 3,
   "metadata": {
    "collapsed": false
   },
   "outputs": [],
   "source": [
    "Borough_count=pd.DataFrame(df.groupby(['BOROUGH']).size())"
   ]
  },
  {
   "cell_type": "code",
   "execution_count": 4,
   "metadata": {
    "collapsed": true
   },
   "outputs": [],
   "source": [
    "Borough_count[0]=list(Borough_count.index.values)"
   ]
  },
  {
   "cell_type": "code",
   "execution_count": 5,
   "metadata": {
    "collapsed": false
   },
   "outputs": [],
   "source": [
    "Borough_count['One_Vehicle_Involved']=Borough_count[0].apply(lambda x : len(df[(df['BOROUGH']==x) & (df['VEHICLE 1 TYPE'].isnull()==False) & (df['VEHICLE 2 TYPE'].isnull()==True)& (df['VEHICLE 3 TYPE'].isnull()==True)& (df['VEHICLE 4 TYPE'].isnull()==True)& (df['VEHICLE 5 TYPE'].isnull()==True)]))"
   ]
  },
  {
   "cell_type": "code",
   "execution_count": 6,
   "metadata": {
    "collapsed": true
   },
   "outputs": [],
   "source": [
    "Borough_count['Two_Vehicles_Involved']=Borough_count[0].apply(lambda x : len(df[(df['BOROUGH']==x) & (df['VEHICLE 1 TYPE'].isnull()==False) & (df['VEHICLE 2 TYPE'].isnull()==False)& (df['VEHICLE 3 TYPE'].isnull()==True)& (df['VEHICLE 4 TYPE'].isnull()==True)& (df['VEHICLE 5 TYPE'].isnull()==True)]))"
   ]
  },
  {
   "cell_type": "code",
   "execution_count": 7,
   "metadata": {
    "collapsed": true
   },
   "outputs": [],
   "source": [
    "Borough_count['Three_Vehicles_Involved']=Borough_count[0].apply(lambda x : len(df[(df['BOROUGH']==x) & (df['VEHICLE 1 TYPE'].isnull()==False) & (df['VEHICLE 2 TYPE'].isnull()==False)& (df['VEHICLE 3 TYPE'].isnull()==False)& (df['VEHICLE 4 TYPE'].isnull()==True)& (df['VEHICLE 5 TYPE'].isnull()==True)]))"
   ]
  },
  {
   "cell_type": "code",
   "execution_count": 8,
   "metadata": {
    "collapsed": true
   },
   "outputs": [],
   "source": [
    "Borough_count['More_Vehicles_Involved']=Borough_count[0].apply(lambda x : len(df[(df['BOROUGH']==x) & (df['VEHICLE 1 TYPE'].isnull()==False) & (df['VEHICLE 2 TYPE'].isnull()==False)& (df['VEHICLE 3 TYPE'].isnull()==False)& (((df['VEHICLE 4 TYPE'].isnull()==False)& (df['VEHICLE 5 TYPE'].isnull()==True))|((df['VEHICLE 4 TYPE'].isnull()==False)& (df['VEHICLE 5 TYPE'].isnull()==False)))]))"
   ]
  },
  {
   "cell_type": "code",
   "execution_count": 9,
   "metadata": {
    "collapsed": false
   },
   "outputs": [
    {
     "name": "stdout",
     "output_type": "stream",
     "text": [
      "               One_Vehicle_Involved  Two_Vehicles_Involved  \\\n",
      "BOROUGH                                                      \n",
      "BRONX                          8627                  34385   \n",
      "BROOKLYN                      17375                  80207   \n",
      "MANHATTAN                     13318                  66958   \n",
      "QUEENS                        12962                  70260   \n",
      "STATEN ISLAND                  2343                  10676   \n",
      "\n",
      "               Three_Vehicles_Involved  More_Vehicles_Involved  \n",
      "BOROUGH                                                         \n",
      "BRONX                             1962                     625  \n",
      "BROOKLYN                          4980                    1612  \n",
      "MANHATTAN                         2024                     501  \n",
      "QUEENS                            4498                    1420  \n",
      "STATEN ISLAND                      759                     165  \n"
     ]
    }
   ],
   "source": [
    "del Borough_count[0]\n",
    "Borough_count.to_csv('Q1_Part_2_Output.csv')\n",
    "print(Borough_count)"
   ]
  }
 ],
 "metadata": {
  "anaconda-cloud": {},
  "kernelspec": {
   "display_name": "Python [default]",
   "language": "python",
   "name": "python3"
  },
  "language_info": {
   "codemirror_mode": {
    "name": "ipython",
    "version": 3
   },
   "file_extension": ".py",
   "mimetype": "text/x-python",
   "name": "python",
   "nbconvert_exporter": "python",
   "pygments_lexer": "ipython3",
   "version": "3.5.2"
  }
 },
 "nbformat": 4,
 "nbformat_minor": 2
}
