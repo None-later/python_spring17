{
 "cells": [
  {
   "cell_type": "markdown",
   "metadata": {},
   "source": [
    "# Question 2 - Part 1\n",
    "\n",
    "Read all the json files in the folder called Data.\n",
    "- There are three categories of json files in this folder. They are identified by the key called “term” in each of the json file.\n",
    "- Create a folder structure to read all these json files and store them into these separate folders. You are expected to create a hierarchy of folder structure.\n",
    "- Example:You can place all restaurants json files in a particular country (say Australia) in the same folder. How you group the json files and create a folder structure is your choice. Your task is to identify criteria by which you can group all these json files and store them.\n",
    "- (You could use these keys to create hierarchy and store json files: Country, city, categories)\n",
    "\n",
    "Output Format:\n",
    "- Create a folder (Name: Data Processed)\n",
    "- In this folder you should have a hierarchy of folder structures (Example: Data Processed/Australia(AU)/........)\n",
    "\n"
   ]
  },
  {
   "cell_type": "code",
   "execution_count": 1,
   "metadata": {
    "collapsed": true
   },
   "outputs": [],
   "source": [
    "import os, json\n",
    "import re\n",
    "import shutil"
   ]
  },
  {
   "cell_type": "code",
   "execution_count": 2,
   "metadata": {
    "collapsed": false
   },
   "outputs": [],
   "source": [
    "jpath ='/Users/nithinkartha/Desktop/Masters/study materials/DAUPy/HW/python_spring17/Assignment 2/Data/'\n",
    "\n",
    "dir_path = '/Users/nithinkartha/Desktop/Masters/study materials/DAUPy/HW/python_spring17/Assignment 2/Data Processed/'\n",
    "os.makedirs(dir_path, exist_ok=True)"
   ]
  },
  {
   "cell_type": "code",
   "execution_count": 3,
   "metadata": {
    "collapsed": false
   },
   "outputs": [],
   "source": [
    "files=[j for j in os.listdir(jpath)]\n",
    "\n",
    "for f in files:\n",
    "    \n",
    "    with open(os.path.join(jpath,f)) as json_file:\n",
    "        docs=json.load(json_file)\n",
    "        country_path = os.path.join(dir_path, docs['location']['country'])\n",
    "        os.makedirs(country_path, exist_ok=True)\n",
    "        \n",
    "        city_path = os.path.join(country_path, docs['location']['city'])\n",
    "        os.makedirs(city_path, exist_ok=True)\n",
    "        \n",
    "        new_path = os.path.join(city_path, docs['term'])\n",
    "        os.makedirs(new_path, exist_ok=True) \n",
    "        \n",
    "        try:\n",
    "            new_path = os.path.join(new_path,docs['categories'][0]['title'] )\n",
    "            os.makedirs(new_path, exist_ok=True)\n",
    "        except IndexError:\n",
    "            pass\n",
    "        \n",
    "        shutil.copy(os.path.join(jpath,f), os.path.join(new_path,f))\n",
    "        "
   ]
  },
  {
   "cell_type": "code",
   "execution_count": null,
   "metadata": {
    "collapsed": true
   },
   "outputs": [],
   "source": []
  }
 ],
 "metadata": {
  "anaconda-cloud": {},
  "kernelspec": {
   "display_name": "Python [default]",
   "language": "python",
   "name": "python3"
  },
  "language_info": {
   "codemirror_mode": {
    "name": "ipython",
    "version": 3
   },
   "file_extension": ".py",
   "mimetype": "text/x-python",
   "name": "python",
   "nbconvert_exporter": "python",
   "pygments_lexer": "ipython3",
   "version": "3.5.2"
  }
 },
 "nbformat": 4,
 "nbformat_minor": 1
}
