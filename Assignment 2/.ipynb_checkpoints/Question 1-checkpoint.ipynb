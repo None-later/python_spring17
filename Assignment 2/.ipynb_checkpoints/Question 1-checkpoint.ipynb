{
 "cells": [
  {
   "cell_type": "markdown",
   "metadata": {},
   "source": [
    "# Question 1\n",
    " Learn and understand Zipf’s Law.\n",
    " Pick any file (or files) in NLTK package.\n",
    " Prove if Zipf’s Law works in Natural Language or not. \n",
    " REQUIREMNTS: (Must Do)\n",
    "- Use ’glob’ to open and read file. If read multiple files use LOOP to achieve.\n",
    "- Create at least one function and one lambda function.\n",
    "- Save your data as an CSV file contains (Word, Rank, Frequency) with TITLE and Sort it by RANK.  Open your CSV file,    generate a log-log figure according to the data you saved.\n",
    "- Write a conclusion at the end of your code base on your figure."
   ]
  }
 ],
 "metadata": {
  "anaconda-cloud": {},
  "kernelspec": {
   "display_name": "Python [default]",
   "language": "python",
   "name": "python3"
  },
  "language_info": {
   "codemirror_mode": {
    "name": "ipython",
    "version": 3
   },
   "file_extension": ".py",
   "mimetype": "text/x-python",
   "name": "python",
   "nbconvert_exporter": "python",
   "pygments_lexer": "ipython3",
   "version": "3.5.2"
  }
 },
 "nbformat": 4,
 "nbformat_minor": 1
}
