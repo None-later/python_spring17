{
 "cells": [
  {
   "cell_type": "markdown",
   "metadata": {},
   "source": [
    "# Question 2 - Part 2\n",
    "\n",
    "Read all the json files in the folder called Data.\n",
    "- Read only the json files which contain the key called “restaurants”\n",
    "- Each (or most of the json files) contain a key called “open” which contains the details of the operation (timings) of the restaurants. For each json file, read the timings of the restaurants.\n",
    "- Data of the operation timings of the restaurants is present for each day of the week. I want you to extract each of this data and write it in an excel sheet."
   ]
  },
  {
   "cell_type": "code",
   "execution_count": 9,
   "metadata": {
    "collapsed": true
   },
   "outputs": [],
   "source": [
    "import os \n",
    "import json\n",
    "import re\n",
    "import csv\n",
    "import string"
   ]
  },
  {
   "cell_type": "code",
   "execution_count": 3,
   "metadata": {
    "collapsed": true
   },
   "outputs": [],
   "source": [
    "jpath ='/Users/nithinkartha/Desktop/Masters/study materials/DAUPy/HW/python_spring17/Assignment 2/Data/'\n"
   ]
  },
  {
   "cell_type": "code",
   "execution_count": 30,
   "metadata": {
    "collapsed": false
   },
   "outputs": [],
   "source": [
    "files=[j for j in os.listdir(jpath)]\n",
    "\n",
    "with open('restaurants.csv', 'w') as csvfile:\n",
    "    fieldnames = ['Name of the restaurants', 'City', 'Country Code','Day of Week','Start Time Hour','Start Time Minute','End Time Hour','End Time Minute']\n",
    "    writer = csv.DictWriter(csvfile, fieldnames=fieldnames)\n",
    "    writer.writeheader()\n",
    "\n",
    "    for f in files:\n",
    "        with open(os.path.join(jpath,f)) as json_file:\n",
    "            docs=json.load(json_file)\n",
    "            if docs['term'] in 'restaurants':\n",
    "                name=docs['id'].replace('-', ' ')\n",
    "                for i in range(0,15):     \n",
    "                    try:\n",
    "                        writer.writerow({'Name of the restaurants':name, 'City':docs['location']['city'], 'Country Code':docs['location']['country'],'Day of Week':docs['hours'][0]['open'][i]['day'],'Start Time Hour':docs['hours'][0]['open'][i]['start'][:2],'Start Time Minute':docs['hours'][0]['open'][i]['start'][2:4],'End Time Hour':docs['hours'][0]['open'][i]['end'][:2],'End Time Minute':docs['hours'][0]['open'][i]['end'][2:4]})\n",
    "                    except (IndexError,KeyError):\n",
    "                        pass\n",
    "                \n",
    "            "
   ]
  },
  {
   "cell_type": "code",
   "execution_count": null,
   "metadata": {
    "collapsed": true
   },
   "outputs": [],
   "source": []
  }
 ],
 "metadata": {
  "anaconda-cloud": {},
  "kernelspec": {
   "display_name": "Python [default]",
   "language": "python",
   "name": "python3"
  },
  "language_info": {
   "codemirror_mode": {
    "name": "ipython",
    "version": 3
   },
   "file_extension": ".py",
   "mimetype": "text/x-python",
   "name": "python",
   "nbconvert_exporter": "python",
   "pygments_lexer": "ipython3",
   "version": "3.5.2"
  }
 },
 "nbformat": 4,
 "nbformat_minor": 1
}
