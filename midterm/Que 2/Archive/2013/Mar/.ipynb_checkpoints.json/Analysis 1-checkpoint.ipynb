{
 "cells": [
  {
   "cell_type": "code",
   "execution_count": 1,
   "metadata": {
    "collapsed": false
   },
   "outputs": [],
   "source": [
    "import requests,json,os\n",
    "import re,datetime\n",
    "import shutil"
   ]
  },
  {
   "cell_type": "code",
   "execution_count": null,
   "metadata": {
    "collapsed": true
   },
   "outputs": [],
   "source": []
  },
  {
   "cell_type": "code",
   "execution_count": 2,
   "metadata": {
    "collapsed": false
   },
   "outputs": [
    {
     "name": "stdout",
     "output_type": "stream",
     "text": [
      "64c3ab93117a4311b15dd35ecb7cff3d\n"
     ]
    }
   ],
   "source": [
    "nyt_article_search_key = os.getenv('auth_key')\n",
    "print(nyt_article_search_key)"
   ]
  },
  {
   "cell_type": "code",
   "execution_count": null,
   "metadata": {
    "collapsed": true
   },
   "outputs": [],
   "source": []
  },
  {
   "cell_type": "code",
   "execution_count": 3,
   "metadata": {
    "collapsed": true
   },
   "outputs": [],
   "source": [
    "dir_path = 'Archive'                  #Relative path\n",
    "os.makedirs(dir_path, exist_ok=True)"
   ]
  },
  {
   "cell_type": "code",
   "execution_count": null,
   "metadata": {
    "collapsed": true
   },
   "outputs": [],
   "source": []
  },
  {
   "cell_type": "code",
   "execution_count": null,
   "metadata": {
    "collapsed": true
   },
   "outputs": [],
   "source": []
  },
  {
   "cell_type": "code",
   "execution_count": null,
   "metadata": {
    "collapsed": false
   },
   "outputs": [
    {
     "name": "stdout",
     "output_type": "stream",
     "text": [
      "2012 Jan\n",
      "2012 Jan\n",
      "2012 Jan\n",
      "2012 Feb\n",
      "2012 Feb\n",
      "2012 Feb\n",
      "2012 Mar\n",
      "2012 Mar\n",
      "2012 Mar\n",
      "2012 Apr\n",
      "2012 Apr\n",
      "2012 Apr\n",
      "2012 May\n",
      "2012 May\n",
      "2012 May\n",
      "2012 Jun\n",
      "2012 Jun\n",
      "2012 Jun\n",
      "2012 Jul\n",
      "2012 Jul\n",
      "2012 Jul\n",
      "2012 Aug\n",
      "2012 Aug\n",
      "2012 Aug\n",
      "2012 Sep\n",
      "2012 Sep\n",
      "2012 Sep\n",
      "2012 Oct\n",
      "2012 Oct\n",
      "2012 Oct\n",
      "2012 Nov\n",
      "2012 Nov\n",
      "2012 Nov\n",
      "2012 Dec\n",
      "2012 Dec\n",
      "2012 Dec\n",
      "2013 Jan\n",
      "2013 Jan\n",
      "2013 Jan\n",
      "2013 Feb\n",
      "2013 Feb\n",
      "2013 Feb\n"
     ]
    }
   ],
   "source": [
    "for y in range(2012,2017):\n",
    "    for m in range(1,13):\n",
    "        \n",
    "        art_url=('http://api.nytimes.com/svc/archive/v1/'+str(y)+'/'+str(m)+'.json?api-key='+ nyt_article_search_key)\n",
    "        get_request=requests.get(art_url)\n",
    "        article=json.loads(get_request.text)\n",
    "        for i in range(0,5000):\n",
    "            try:\n",
    "        \n",
    "                t=article['response']['docs'][i]['pub_date']\n",
    "                match = re.search(r'\\d{4}-\\d{2}-\\d{2}', t)\n",
    "                date = datetime.datetime.strptime(match.group(), '%Y-%m-%d').date()\n",
    "        \n",
    "                year_path = os.path.join(dir_path, str(date.year))   \n",
    "                os.makedirs(year_path,exist_ok=True)\n",
    "                month_path = os.path.join(year_path, date.strftime(\"%b\"))\n",
    "                os.makedirs(month_path, exist_ok=True)\n",
    "    \n",
    "            except IndexError:\n",
    "                pass\n",
    "            with open(article['response']['docs'][i]['_id'],'w')as outfile:\n",
    "                json.dump(article['response']['docs'][i],outfile)\n",
    "        for files in os.listdir('/Users/nithinkartha/Desktop/Masters/study materials/DAUPy/HW/python_spring17/midterm/Que 2'):\n",
    "            if files.endswith('.ipynb'):\n",
    "                print(date.year,date.strftime(\"%b\"))\n",
    "            else:\n",
    "                try:\n",
    "                    shutil.move(os.path.join('/Users/nithinkartha/Desktop/Masters/study materials/DAUPy/HW/python_spring17/midterm/Que 2',files), os.path.join(month_path,files+'.json'))\n",
    "                except OSError:\n",
    "                    pass\n"
   ]
  },
  {
   "cell_type": "code",
   "execution_count": null,
   "metadata": {
    "collapsed": true
   },
   "outputs": [],
   "source": []
  },
  {
   "cell_type": "code",
   "execution_count": null,
   "metadata": {
    "collapsed": true
   },
   "outputs": [],
   "source": []
  },
  {
   "cell_type": "code",
   "execution_count": null,
   "metadata": {
    "collapsed": true
   },
   "outputs": [],
   "source": []
  }
 ],
 "metadata": {
  "anaconda-cloud": {},
  "kernelspec": {
   "display_name": "Python [default]",
   "language": "python",
   "name": "python3"
  },
  "language_info": {
   "codemirror_mode": {
    "name": "ipython",
    "version": 3
   },
   "file_extension": ".py",
   "mimetype": "text/x-python",
   "name": "python",
   "nbconvert_exporter": "python",
   "pygments_lexer": "ipython3",
   "version": "3.5.2"
  }
 },
 "nbformat": 4,
 "nbformat_minor": 1
}
