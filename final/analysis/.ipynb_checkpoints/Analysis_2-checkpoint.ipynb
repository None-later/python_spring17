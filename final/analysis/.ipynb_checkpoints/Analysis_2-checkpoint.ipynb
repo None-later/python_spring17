{
 "cells": [
  {
   "cell_type": "markdown",
   "metadata": {},
   "source": [
    "# Analysis 2"
   ]
  },
  {
   "cell_type": "code",
   "execution_count": 1,
   "metadata": {
    "collapsed": true
   },
   "outputs": [],
   "source": [
    "import requests,json,os\n",
    "import re,datetime\n",
    "import shutil\n",
    "import matplotlib.pyplot as mp\n",
    "import pandas as pd\n",
    "import numpy as np"
   ]
  },
  {
   "cell_type": "code",
   "execution_count": 2,
   "metadata": {
    "collapsed": true
   },
   "outputs": [],
   "source": [
    "#2015/Premier League"
   ]
  },
  {
   "cell_type": "code",
   "execution_count": 3,
   "metadata": {
    "collapsed": false
   },
   "outputs": [],
   "source": [
    "df=pd.DataFrame()\n",
    "for root, dirs, files in os.walk('../data/raw_data'):\n",
    "    if '/2015/Premier League ' in root:\n",
    "        if '/Fixtures' in root:        \n",
    "            for f in files:\n",
    "                if f.endswith('.json'):\n",
    "                    if not '.DS_Store' in f:\n",
    "                        with open(os.path.join(root,f), 'r', encoding='utf-8', errors=\"ignore\") as json_file:\n",
    "                            data=json.load(json_file)\n",
    "                            to_ignore = ['odds']\n",
    "                            data1 = {key: value for (key, value) in data.items() if key.rsplit('_', 1)[-1] not in to_ignore}\n",
    "                            fix=pd.DataFrame.from_dict(data1, orient='columns', dtype=None)\n",
    "                            fix['FinalScore']=str(fix.iloc[1]['result']) +':'+ str(fix.iloc[0]['result'])\n",
    "                            try:\n",
    "                                fix['HalfTimeScore']=str(fix.iloc[2]['result']['goalsHomeTeam']) +':'+ str(fix.iloc[2]['result']['goalsAwayTeam'])     \n",
    "                            except IndexError:\n",
    "                                fix['HalfTimeScore']='0:0'\n",
    "                            \n",
    "                            fix=fix.drop('result',1)\n",
    "                            fix=fix.drop('goalsHomeTeam',0)\n",
    "                            try:\n",
    "                                fix=fix.drop('halfTime',0)\n",
    "                            except ValueError:\n",
    "                                pass\n",
    "                            fix=fix.reset_index(drop=True)\n",
    "                            df=pd.concat([df,fix])\n",
    "df=df.reset_index(drop=True)\n",
    "df['date']=df['date'].apply(lambda x :datetime.datetime.strptime((re.search(r'\\d{4}-\\d{2}-\\d{2}', x)).group(), '%Y-%m-%d').date() )       "
   ]
  },
  {
   "cell_type": "code",
   "execution_count": 4,
   "metadata": {
    "collapsed": true
   },
   "outputs": [],
   "source": [
    "df1=pd.read_csv('../data/extra_data (2015)/Premier League.csv')         \n",
    "df1['Date']=df1['Date'].apply(lambda x :datetime.datetime.strptime((re.search(r'\\d{2}/\\d{2}/\\d{2}', x)).group(), '%d/%m/%y').date() )       \n",
    "\n",
    "df1['HomeTeam']=df1['HomeTeam'].apply(lambda x : 'AFC Bournemouth' if x == 'Bournemouth'else x )       \n",
    "df1['HomeTeam']=df1['HomeTeam'].apply(lambda x : 'Arsenal FC' if x == 'Arsenal'else x )       \n",
    "df1['HomeTeam']=df1['HomeTeam'].apply(lambda x : 'Aston Villa FC' if x == 'Aston Villa'else x )       \n",
    "df1['HomeTeam']=df1['HomeTeam'].apply(lambda x : 'Chelsea FC' if x == 'Chelsea'else x )       \n",
    "df1['HomeTeam']=df1['HomeTeam'].apply(lambda x : 'Crystal Palace FC' if x == 'Crystal Palace'else x )       \n",
    "df1['HomeTeam']=df1['HomeTeam'].apply(lambda x : 'Everton FC' if x == 'Everton'else x )       \n",
    "df1['HomeTeam']=df1['HomeTeam'].apply(lambda x : 'Leicester City FC' if x == 'Leicester'else x )       \n",
    "df1['HomeTeam']=df1['HomeTeam'].apply(lambda x : 'Liverpool FC' if x == 'Liverpool'else x )       \n",
    "df1['HomeTeam']=df1['HomeTeam'].apply(lambda x : 'Manchester City FC' if x == 'Man City'else x )       \n",
    "df1['HomeTeam']=df1['HomeTeam'].apply(lambda x : 'Manchester United FC' if x == 'Man United'else x )       \n",
    "df1['HomeTeam']=df1['HomeTeam'].apply(lambda x : 'Newcastle United FC' if x == 'Newcastle'else x )       \n",
    "df1['HomeTeam']=df1['HomeTeam'].apply(lambda x : 'Norwich City FC' if x == 'Norwich'else x )       \n",
    "df1['HomeTeam']=df1['HomeTeam'].apply(lambda x : 'Southampton FC' if x == 'Southampton'else x )       \n",
    "df1['HomeTeam']=df1['HomeTeam'].apply(lambda x : 'Stoke City FC' if x == 'Stoke'else x )       \n",
    "df1['HomeTeam']=df1['HomeTeam'].apply(lambda x : 'Sunderland AFC' if x == 'Sunderland'else x )       \n",
    "df1['HomeTeam']=df1['HomeTeam'].apply(lambda x : 'Swansea City FC' if x == 'Swansea'else x )       \n",
    "df1['HomeTeam']=df1['HomeTeam'].apply(lambda x : 'Tottenham Hotspur FC' if x == 'Tottenham'else x )       \n",
    "df1['HomeTeam']=df1['HomeTeam'].apply(lambda x : 'Watford FC' if x == 'Watford'else x )       \n",
    "df1['HomeTeam']=df1['HomeTeam'].apply(lambda x : 'West Bromwich Albion FC' if x == 'West Brom'else x )       \n",
    "df1['HomeTeam']=df1['HomeTeam'].apply(lambda x : 'West Ham United FC' if x == 'West Ham'else x )       \n",
    "\n",
    "\n",
    "df1['AwayTeam']=df1['AwayTeam'].apply(lambda x : 'AFC Bournemouth' if x == 'Bournemouth'else x )       \n",
    "df1['AwayTeam']=df1['AwayTeam'].apply(lambda x : 'Arsenal FC' if x == 'Arsenal'else x )       \n",
    "df1['AwayTeam']=df1['AwayTeam'].apply(lambda x : 'Aston Villa FC' if x == 'Aston Villa'else x )       \n",
    "df1['AwayTeam']=df1['AwayTeam'].apply(lambda x : 'Chelsea FC' if x == 'Chelsea'else x )       \n",
    "df1['AwayTeam']=df1['AwayTeam'].apply(lambda x : 'Crystal Palace FC' if x == 'Crystal Palace'else x )       \n",
    "df1['AwayTeam']=df1['AwayTeam'].apply(lambda x : 'Everton FC' if x == 'Everton'else x )       \n",
    "df1['AwayTeam']=df1['AwayTeam'].apply(lambda x : 'Leicester City FC' if x == 'Leicester'else x )       \n",
    "df1['AwayTeam']=df1['AwayTeam'].apply(lambda x : 'Liverpool FC' if x == 'Liverpool'else x )       \n",
    "df1['AwayTeam']=df1['AwayTeam'].apply(lambda x : 'Manchester City FC' if x == 'Man City'else x )       \n",
    "df1['AwayTeam']=df1['AwayTeam'].apply(lambda x : 'Manchester United FC' if x == 'Man United'else x )       \n",
    "df1['AwayTeam']=df1['AwayTeam'].apply(lambda x : 'Newcastle United FC' if x == 'Newcastle'else x )       \n",
    "df1['AwayTeam']=df1['AwayTeam'].apply(lambda x : 'Norwich City FC' if x == 'Norwich'else x )       \n",
    "df1['AwayTeam']=df1['AwayTeam'].apply(lambda x : 'Southampton FC' if x == 'Southampton'else x )       \n",
    "df1['AwayTeam']=df1['AwayTeam'].apply(lambda x : 'Stoke City FC' if x == 'Stoke'else x )       \n",
    "df1['AwayTeam']=df1['AwayTeam'].apply(lambda x : 'Sunderland AFC' if x == 'Sunderland'else x )       \n",
    "df1['AwayTeam']=df1['AwayTeam'].apply(lambda x : 'Swansea City FC' if x == 'Swansea'else x )       \n",
    "df1['AwayTeam']=df1['AwayTeam'].apply(lambda x : 'Tottenham Hotspur FC' if x == 'Tottenham'else x )       \n",
    "df1['AwayTeam']=df1['AwayTeam'].apply(lambda x : 'Watford FC' if x == 'Watford'else x )       \n",
    "df1['AwayTeam']=df1['AwayTeam'].apply(lambda x : 'West Bromwich Albion FC' if x == 'West Brom'else x )       \n",
    "df1['AwayTeam']=df1['AwayTeam'].apply(lambda x : 'West Ham United FC' if x == 'West Ham'else x )\n",
    "\n",
    "df1.rename(columns={'HomeTeam': 'homeTeamName', 'AwayTeam': 'awayTeamName'}, inplace=True)\n",
    "pl2015=pd.merge(df, df1, on=['homeTeamName', 'awayTeamName'], how='inner')\n",
    "pl2015.to_csv('../data/pl2015.csv')"
   ]
  },
  {
   "cell_type": "code",
   "execution_count": 5,
   "metadata": {
    "collapsed": true
   },
   "outputs": [],
   "source": [
    "#2015/1. Bundesliga "
   ]
  },
  {
   "cell_type": "code",
   "execution_count": 6,
   "metadata": {
    "collapsed": true
   },
   "outputs": [],
   "source": [
    "bun=pd.DataFrame()\n",
    "for root, dirs, files in os.walk('../data/raw_data'):\n",
    "    if '/2015/1. Bundesliga ' in root:\n",
    "        if '/Fixtures' in root:        \n",
    "            for f in files:\n",
    "                if f.endswith('.json'):\n",
    "                    if not '.DS_Store' in f:\n",
    "                        with open(os.path.join(root,f), 'r', encoding='utf-8', errors=\"ignore\") as json_file:\n",
    "                            data=json.load(json_file)\n",
    "                            to_ignore = ['odds']\n",
    "                            data1 = {key: value for (key, value) in data.items() if key.rsplit('_', 1)[-1] not in to_ignore}\n",
    "                            fix=pd.DataFrame.from_dict(data1, orient='columns', dtype=None)\n",
    "                            fix['FinalScore']=str(fix.iloc[1]['result']) +':'+ str(fix.iloc[0]['result'])\n",
    "                            try:\n",
    "                                fix['HalfTimeScore']=str(fix.iloc[2]['result']['goalsHomeTeam']) +':'+ str(fix.iloc[2]['result']['goalsAwayTeam'])     \n",
    "                            except IndexError:\n",
    "                                fix['HalfTimeScore']='0:0'\n",
    "                            \n",
    "                            fix=fix.drop('result',1)\n",
    "                            fix=fix.drop('goalsHomeTeam',0)\n",
    "                            try:\n",
    "                                fix=fix.drop('halfTime',0)\n",
    "                            except ValueError:\n",
    "                                pass\n",
    "                            fix=fix.reset_index(drop=True)\n",
    "                            bun=pd.concat([bun,fix])\n",
    "bun=bun.reset_index(drop=True)\n",
    "bun['date']=bun['date'].apply(lambda x :datetime.datetime.strptime((re.search(r'\\d{4}-\\d{2}-\\d{2}', x)).group(), '%Y-%m-%d').date() )       "
   ]
  },
  {
   "cell_type": "code",
   "execution_count": 7,
   "metadata": {
    "collapsed": true
   },
   "outputs": [],
   "source": [
    "bun1=pd.read_csv('../data/extra_data (2015)/1. Bundesliga.csv')         \n",
    "bun1['Date']=bun1['Date'].apply(lambda x :datetime.datetime.strptime((re.search(r'\\d{2}/\\d{2}/\\d{2}', x)).group(), '%d/%m/%y').date() )       \n",
    "\n",
    "bun1['HomeTeam']=bun1['HomeTeam'].apply(lambda x : '1. FSV Mainz 05' if x == 'Bournemouth'else x )       \n",
    "bun1['HomeTeam']=bun1['HomeTeam'].apply(lambda x : 'Bayer Leverkusen' if x == 'Leverkusen'else x )       \n",
    "bun1['HomeTeam']=bun1['HomeTeam'].apply(lambda x : 'Bor. Mönchengladbach' if x == \"M'gladbach\" else x )       \n",
    "bun1['HomeTeam']=bun1['HomeTeam'].apply(lambda x : 'Borussia Dortmund' if x == 'Dortmund'else x )       \n",
    "bun1['HomeTeam']=bun1['HomeTeam'].apply(lambda x : 'Eintracht Frankfurt' if x == 'Ein Frankfurt'else x )       \n",
    "bun1['HomeTeam']=bun1['HomeTeam'].apply(lambda x : 'FC Augsburg' if x == 'Augsburg'else x )       \n",
    "bun1['HomeTeam']=bun1['HomeTeam'].apply(lambda x : 'FC Bayern München' if x == 'Bayern Munich'else x )       \n",
    "bun1['HomeTeam']=bun1['HomeTeam'].apply(lambda x : 'FC Ingolstadt 04' if x == 'Ingolstadt'else x )       \n",
    "bun1['HomeTeam']=bun1['HomeTeam'].apply(lambda x : 'FC Schalke 04' if x == 'Schalke 04'else x )       \n",
    "bun1['HomeTeam']=bun1['HomeTeam'].apply(lambda x : 'Hamburger SV' if x == 'Hamburg'else x )       \n",
    "bun1['HomeTeam']=bun1['HomeTeam'].apply(lambda x : 'Hannover 96' if x == 'Hannover'else x )       \n",
    "bun1['HomeTeam']=bun1['HomeTeam'].apply(lambda x : 'Hertha BSC' if x == 'Hertha'else x )       \n",
    "bun1['HomeTeam']=bun1['HomeTeam'].apply(lambda x : 'SV Darmstadt 98' if x == 'Darmstadt'else x )       \n",
    "bun1['HomeTeam']=bun1['HomeTeam'].apply(lambda x : 'TSG 1899 Hoffenheim' if x == 'Hoffenheim'else x )       \n",
    "bun1['HomeTeam']=bun1['HomeTeam'].apply(lambda x : 'VfB Stuttgart' if x == 'Stuttgart'else x )       \n",
    "bun1['HomeTeam']=bun1['HomeTeam'].apply(lambda x : 'VfL Wolfsburg' if x == 'Wolfsburg'else x )       \n",
    "bun1['HomeTeam']=bun1['HomeTeam'].apply(lambda x : 'Werder Bremen' if x == 'Werder Bremen'else x )       \n",
    "bun1['HomeTeam']=bun1['HomeTeam'].apply(lambda x : 'FC Köln' if x == 'FC Koln'else x )\n",
    "\n",
    "bun1['AwayTeam']=bun1['AwayTeam'].apply(lambda x : '1. FSV Mainz 05' if x == 'Bournemouth'else x )       \n",
    "bun1['AwayTeam']=bun1['AwayTeam'].apply(lambda x : 'Bayer Leverkusen' if x == 'Leverkusen'else x )       \n",
    "bun1['AwayTeam']=bun1['AwayTeam'].apply(lambda x : 'Bor. Mönchengladbach' if x == \"M'gladbach\" else x )       \n",
    "bun1['AwayTeam']=bun1['AwayTeam'].apply(lambda x : 'Borussia Dortmund' if x == 'Dortmund'else x )       \n",
    "bun1['AwayTeam']=bun1['AwayTeam'].apply(lambda x : 'Eintracht Frankfurt' if x == 'Ein Frankfurt'else x )       \n",
    "bun1['AwayTeam']=bun1['AwayTeam'].apply(lambda x : 'FC Augsburg' if x == 'Augsburg'else x )       \n",
    "bun1['AwayTeam']=bun1['AwayTeam'].apply(lambda x : 'FC Bayern München' if x == 'Bayern Munich'else x )       \n",
    "bun1['AwayTeam']=bun1['AwayTeam'].apply(lambda x : 'FC Ingolstadt 04' if x == 'Ingolstadt'else x )       \n",
    "bun1['AwayTeam']=bun1['AwayTeam'].apply(lambda x : 'FC Schalke 04' if x == 'Schalke 04'else x )       \n",
    "bun1['AwayTeam']=bun1['AwayTeam'].apply(lambda x : 'Hamburger SV' if x == 'Hamburg'else x )       \n",
    "bun1['AwayTeam']=bun1['AwayTeam'].apply(lambda x : 'Hannover 96' if x == 'Hannover'else x )       \n",
    "bun1['AwayTeam']=bun1['AwayTeam'].apply(lambda x : 'Hertha BSC' if x == 'Hertha'else x )       \n",
    "bun1['AwayTeam']=bun1['AwayTeam'].apply(lambda x : 'SV Darmstadt 98' if x == 'Darmstadt'else x )       \n",
    "bun1['AwayTeam']=bun1['AwayTeam'].apply(lambda x : 'TSG 1899 Hoffenheim' if x == 'Hoffenheim'else x )       \n",
    "bun1['AwayTeam']=bun1['AwayTeam'].apply(lambda x : 'VfB Stuttgart' if x == 'Stuttgart'else x )       \n",
    "bun1['AwayTeam']=bun1['AwayTeam'].apply(lambda x : 'VfL Wolfsburg' if x == 'Wolfsburg'else x )       \n",
    "bun1['AwayTeam']=bun1['AwayTeam'].apply(lambda x : 'Werder Bremen' if x == 'Werder Bremen'else x )  \n",
    "bun1['AwayTeam']=bun1['AwayTeam'].apply(lambda x : 'FC Köln' if x == 'FC Koln'else x )  \n",
    "\n",
    "\n",
    "bun1.rename(columns={'HomeTeam': 'homeTeamName', 'AwayTeam': 'awayTeamName'}, inplace=True)\n",
    "bun2015=pd.merge(bun, bun1, on=['homeTeamName', 'awayTeamName'], how='inner')\n",
    "bun2015.to_csv('../data/bun2015.csv')"
   ]
  },
  {
   "cell_type": "code",
   "execution_count": 8,
   "metadata": {
    "collapsed": true
   },
   "outputs": [],
   "source": [
    "#2015/Primera Division  "
   ]
  },
  {
   "cell_type": "code",
   "execution_count": 9,
   "metadata": {
    "collapsed": false
   },
   "outputs": [],
   "source": [
    "lali=pd.DataFrame()\n",
    "for root, dirs, files in os.walk('../data/raw_data'):\n",
    "    if '/2015/Primera Division ' in root:\n",
    "        if '/Fixtures' in root:        \n",
    "            for f in files:\n",
    "                if f.endswith('.json'):\n",
    "                    if not '.DS_Store' in f:\n",
    "                        with open(os.path.join(root,f), 'r', encoding='utf-8', errors=\"ignore\") as json_file:\n",
    "                            data=json.load(json_file)\n",
    "                            to_ignore = ['odds']\n",
    "                            data1 = {key: value for (key, value) in data.items() if key.rsplit('_', 1)[-1] not in to_ignore}\n",
    "                            fix=pd.DataFrame.from_dict(data1, orient='columns', dtype=None)\n",
    "                            fix['FinalScore']=str(fix.iloc[1]['result']) +':'+ str(fix.iloc[0]['result'])\n",
    "                            try:\n",
    "                                fix['HalfTimeScore']=str(fix.iloc[2]['result']['goalsHomeTeam']) +':'+ str(fix.iloc[2]['result']['goalsAwayTeam'])     \n",
    "                            except IndexError:\n",
    "                                fix['HalfTimeScore']='0:0'\n",
    "                            \n",
    "                            fix=fix.drop('result',1)\n",
    "                            fix=fix.drop('goalsHomeTeam',0)\n",
    "                            try:\n",
    "                                fix=fix.drop('halfTime',0)\n",
    "                            except ValueError:\n",
    "                                pass\n",
    "                            fix=fix.reset_index(drop=True)\n",
    "                            lali=pd.concat([lali,fix])\n",
    "lali=lali.reset_index(drop=True)\n",
    "lali['date']=lali['date'].apply(lambda x :datetime.datetime.strptime((re.search(r'\\d{4}-\\d{2}-\\d{2}', x)).group(), '%Y-%m-%d').date() )       "
   ]
  },
  {
   "cell_type": "code",
   "execution_count": 10,
   "metadata": {
    "collapsed": true
   },
   "outputs": [],
   "source": [
    "lali1=pd.read_csv('../data/extra_data (2015)/Primera Division.csv')         \n",
    "lali1['Date']=lali1['Date'].apply(lambda x :datetime.datetime.strptime((re.search(r'\\d{2}/\\d{2}/\\d{2}', x)).group(), '%d/%m/%y').date() )  \n",
    "\n",
    "lali1['HomeTeam']=lali1['HomeTeam'].apply(lambda x : 'Club Atlético de Madrid' if x == 'Ath Madrid'else x )       \n",
    "lali1['HomeTeam']=lali1['HomeTeam'].apply(lambda x : 'FC Barcelona' if x == 'Barcelona'else x )       \n",
    "lali1['HomeTeam']=lali1['HomeTeam'].apply(lambda x : 'Real Betis' if x == \"Betis\" else x )       \n",
    "lali1['HomeTeam']=lali1['HomeTeam'].apply(lambda x : 'RC Celta de Vigo' if x == 'Celta'else x )       \n",
    "lali1['HomeTeam']=lali1['HomeTeam'].apply(lambda x : 'SD Eibar' if x == 'Eibar'else x )       \n",
    "lali1['HomeTeam']=lali1['HomeTeam'].apply(lambda x : 'RCD Espanyol' if x == 'Espanol'else x )       \n",
    "lali1['HomeTeam']=lali1['HomeTeam'].apply(lambda x : 'Getafe CF' if x == 'Getafe'else x )       \n",
    "lali1['HomeTeam']=lali1['HomeTeam'].apply(lambda x : 'Granada CF' if x == 'Granada'else x )       \n",
    "lali1['HomeTeam']=lali1['HomeTeam'].apply(lambda x : 'RC Deportivo La Coruna' if x == 'La Coruna'else x )       \n",
    "lali1['HomeTeam']=lali1['HomeTeam'].apply(lambda x : 'UD Las Palmas' if x == 'Las Palmas'else x )       \n",
    "lali1['HomeTeam']=lali1['HomeTeam'].apply(lambda x : 'Levante UD' if x == 'Levante'else x )       \n",
    "lali1['HomeTeam']=lali1['HomeTeam'].apply(lambda x : 'Málaga CF' if x == 'Malaga'else x )       \n",
    "lali1['HomeTeam']=lali1['HomeTeam'].apply(lambda x : 'Real Madrid CF' if x == 'Real Madrid'else x )       \n",
    "lali1['HomeTeam']=lali1['HomeTeam'].apply(lambda x : 'Sevilla FC' if x == 'Sevilla'else x )       \n",
    "lali1['HomeTeam']=lali1['HomeTeam'].apply(lambda x : 'Real Sociedad de Fútbol' if x == 'Sociedad'else x )       \n",
    "lali1['HomeTeam']=lali1['HomeTeam'].apply(lambda x : 'Sporting Gijón' if x == 'Sp Gijon'else x )       \n",
    "lali1['HomeTeam']=lali1['HomeTeam'].apply(lambda x : 'Valencia CF' if x == 'Valencia'else x )       \n",
    "lali1['HomeTeam']=lali1['HomeTeam'].apply(lambda x : 'Rayo Vallecano de Madrid' if x == 'Vallecano'else x )\n",
    "lali1['HomeTeam']=lali1['HomeTeam'].apply(lambda x : 'Villarreal CF' if x == 'Villarreal'else x )\n",
    "lali1['HomeTeam']=lali1['HomeTeam'].apply(lambda x : 'Athletic Club' if x == 'Ath Bilbao'else x )\n",
    "\n",
    "\n",
    "lali1['AwayTeam']=lali1['AwayTeam'].apply(lambda x : 'Club Atlético de Madrid' if x == 'Ath Madrid'else x )       \n",
    "lali1['AwayTeam']=lali1['AwayTeam'].apply(lambda x : 'FC Barcelona' if x == 'Barcelona'else x )       \n",
    "lali1['AwayTeam']=lali1['AwayTeam'].apply(lambda x : 'Real Betis' if x == \"Betis\" else x )       \n",
    "lali1['AwayTeam']=lali1['AwayTeam'].apply(lambda x : 'RC Celta de Vigo' if x == 'Celta'else x )       \n",
    "lali1['AwayTeam']=lali1['AwayTeam'].apply(lambda x : 'SD Eibar' if x == 'Eibar'else x )       \n",
    "lali1['AwayTeam']=lali1['AwayTeam'].apply(lambda x : 'RCD Espanyol' if x == 'Espanol'else x )       \n",
    "lali1['AwayTeam']=lali1['AwayTeam'].apply(lambda x : 'Getafe CF' if x == 'Getafe'else x )       \n",
    "lali1['AwayTeam']=lali1['AwayTeam'].apply(lambda x : 'Granada CF' if x == 'Granada'else x )       \n",
    "lali1['AwayTeam']=lali1['AwayTeam'].apply(lambda x : 'RC Deportivo La Coruna' if x == 'La Coruna'else x )       \n",
    "lali1['AwayTeam']=lali1['AwayTeam'].apply(lambda x : 'UD Las Palmas' if x == 'Las Palmas'else x )       \n",
    "lali1['AwayTeam']=lali1['AwayTeam'].apply(lambda x : 'Levante UD' if x == 'Levante'else x )       \n",
    "lali1['AwayTeam']=lali1['AwayTeam'].apply(lambda x : 'Málaga CF' if x == 'Malaga'else x )       \n",
    "lali1['AwayTeam']=lali1['AwayTeam'].apply(lambda x : 'Real Madrid CF' if x == 'Real Madrid'else x )       \n",
    "lali1['AwayTeam']=lali1['AwayTeam'].apply(lambda x : 'Sevilla FC' if x == 'Sevilla'else x )       \n",
    "lali1['AwayTeam']=lali1['AwayTeam'].apply(lambda x : 'Real Sociedad de Fútbol' if x == 'Sociedad'else x )       \n",
    "lali1['AwayTeam']=lali1['AwayTeam'].apply(lambda x : 'Sporting Gijón' if x == 'Sp Gijon'else x )       \n",
    "lali1['AwayTeam']=lali1['AwayTeam'].apply(lambda x : 'Valencia CF' if x == 'Valencia'else x )       \n",
    "lali1['AwayTeam']=lali1['AwayTeam'].apply(lambda x : 'Rayo Vallecano de Madrid' if x == 'Vallecano'else x )\n",
    "lali1['AwayTeam']=lali1['AwayTeam'].apply(lambda x : 'Villarreal CF' if x == 'Villarreal'else x )\n",
    "lali1['AwayTeam']=lali1['AwayTeam'].apply(lambda x : 'Athletic Club' if x == 'Ath Bilbao'else x )\n",
    "\n",
    "lali1.rename(columns={'HomeTeam': 'homeTeamName', 'AwayTeam': 'awayTeamName'}, inplace=True)\n",
    "lali2015=pd.merge(lali, lali1, on=['homeTeamName', 'awayTeamName'], how='inner')\n",
    "lali2015.to_csv('../data/lali2015.csv')"
   ]
  },
  {
   "cell_type": "code",
   "execution_count": 11,
   "metadata": {
    "collapsed": true
   },
   "outputs": [],
   "source": [
    "#2015/Serie A "
   ]
  },
  {
   "cell_type": "code",
   "execution_count": 12,
   "metadata": {
    "collapsed": false
   },
   "outputs": [],
   "source": [
    "ser=pd.DataFrame()\n",
    "for root, dirs, files in os.walk('../data/raw_data'):\n",
    "    if '/2015/Serie A ' in root:\n",
    "        if '/Fixtures' in root:        \n",
    "            for f in files:\n",
    "                if f.endswith('.json'):\n",
    "                    if not '.DS_Store' in f:\n",
    "                        with open(os.path.join(root,f), 'r', encoding='utf-8', errors=\"ignore\") as json_file:\n",
    "                            data=json.load(json_file)\n",
    "                            to_ignore = ['odds']\n",
    "                            data1 = {key: value for (key, value) in data.items() if key.rsplit('_', 1)[-1] not in to_ignore}\n",
    "                            fix=pd.DataFrame.from_dict(data1, orient='columns', dtype=None)\n",
    "                            fix['FinalScore']=str(fix.iloc[1]['result']) +':'+ str(fix.iloc[0]['result'])\n",
    "                            try:\n",
    "                                fix['HalfTimeScore']=str(fix.iloc[2]['result']['goalsHomeTeam']) +':'+ str(fix.iloc[2]['result']['goalsAwayTeam'])     \n",
    "                            except IndexError:\n",
    "                                fix['HalfTimeScore']='0:0'\n",
    "                            \n",
    "                            fix=fix.drop('result',1)\n",
    "                            fix=fix.drop('goalsHomeTeam',0)\n",
    "                            try:\n",
    "                                fix=fix.drop('halfTime',0)\n",
    "                            except ValueError:\n",
    "                                pass\n",
    "                            fix=fix.reset_index(drop=True)\n",
    "                            ser=pd.concat([ser,fix])\n",
    "ser=ser.reset_index(drop=True)\n",
    "ser['date']=ser['date'].apply(lambda x :datetime.datetime.strptime((re.search(r'\\d{4}-\\d{2}-\\d{2}', x)).group(), '%Y-%m-%d').date() )       "
   ]
  },
  {
   "cell_type": "code",
   "execution_count": 13,
   "metadata": {
    "collapsed": false
   },
   "outputs": [],
   "source": [
    "ser1=pd.read_csv('../data/extra_data (2015)/Serie A.csv')\n",
    "\n",
    "ser1['HomeTeam']=ser1['HomeTeam'].apply(lambda x : 'AC Chievo Verona' if x == 'Chievo'else x )       \n",
    "ser1['HomeTeam']=ser1['HomeTeam'].apply(lambda x : 'AC Milan' if x == 'Milan'else x )       \n",
    "ser1['HomeTeam']=ser1['HomeTeam'].apply(lambda x : 'ACF Fiorentina' if x == \"Fiorentina\" else x )       \n",
    "ser1['HomeTeam']=ser1['HomeTeam'].apply(lambda x : 'AS Roma' if x == 'Roma'else x )       \n",
    "ser1['HomeTeam']=ser1['HomeTeam'].apply(lambda x : 'Atalanta BC' if x == 'Atalanta'else x )       \n",
    "ser1['HomeTeam']=ser1['HomeTeam'].apply(lambda x : 'Bologna FC' if x == 'Bologna'else x )       \n",
    "ser1['HomeTeam']=ser1['HomeTeam'].apply(lambda x : 'Carpi FC' if x == 'Carpi'else x )       \n",
    "ser1['HomeTeam']=ser1['HomeTeam'].apply(lambda x : 'Empoli FC' if x == 'Empoli'else x )       \n",
    "ser1['HomeTeam']=ser1['HomeTeam'].apply(lambda x : 'FC Internazionale Milano' if x == 'Inter'else x )       \n",
    "ser1['HomeTeam']=ser1['HomeTeam'].apply(lambda x : 'Frosinone Calcio' if x == 'Frosinone'else x )       \n",
    "ser1['HomeTeam']=ser1['HomeTeam'].apply(lambda x : 'Genoa CFC' if x == 'Genoa'else x )       \n",
    "ser1['HomeTeam']=ser1['HomeTeam'].apply(lambda x : 'Hellas Verona FC' if x == 'Malaga'else x )       \n",
    "ser1['HomeTeam']=ser1['HomeTeam'].apply(lambda x : 'Juventus Turin' if x == 'Juventus'else x )       \n",
    "ser1['HomeTeam']=ser1['HomeTeam'].apply(lambda x : 'SS Lazio' if x == 'Lazio'else x )       \n",
    "ser1['HomeTeam']=ser1['HomeTeam'].apply(lambda x : 'SSC Napoli' if x == 'Napoli'else x )       \n",
    "ser1['HomeTeam']=ser1['HomeTeam'].apply(lambda x : 'Torino FC' if x == 'Torino'else x )       \n",
    "ser1['HomeTeam']=ser1['HomeTeam'].apply(lambda x : 'UC Sampdoria' if x == 'Sampdoria'else x )       \n",
    "ser1['HomeTeam']=ser1['HomeTeam'].apply(lambda x : 'US Cittá di Palermo' if x == 'Palermo'else x )\n",
    "ser1['HomeTeam']=ser1['HomeTeam'].apply(lambda x : 'US Sassuolo Calcio' if x == 'Sassuolo'else x )\n",
    "ser1['HomeTeam']=ser1['HomeTeam'].apply(lambda x : 'Udinese Calcio' if x == 'Udinese'else x )\n",
    "\n",
    "\n",
    "ser1['AwayTeam']=ser1['AwayTeam'].apply(lambda x : 'AC Chievo Verona' if x == 'Chievo'else x )       \n",
    "ser1['AwayTeam']=ser1['AwayTeam'].apply(lambda x : 'AC Milan' if x == 'Milan'else x )       \n",
    "ser1['AwayTeam']=ser1['AwayTeam'].apply(lambda x : 'ACF Fiorentina' if x == \"Fiorentina\" else x )       \n",
    "ser1['AwayTeam']=ser1['AwayTeam'].apply(lambda x : 'AS Roma' if x == 'Roma'else x )       \n",
    "ser1['AwayTeam']=ser1['AwayTeam'].apply(lambda x : 'Atalanta BC' if x == 'Atalanta'else x )       \n",
    "ser1['AwayTeam']=ser1['AwayTeam'].apply(lambda x : 'Bologna FC' if x == 'Bologna'else x )       \n",
    "ser1['AwayTeam']=ser1['AwayTeam'].apply(lambda x : 'Carpi FC' if x == 'Carpi'else x )       \n",
    "ser1['AwayTeam']=ser1['AwayTeam'].apply(lambda x : 'Empoli FC' if x == 'Empoli'else x )       \n",
    "ser1['AwayTeam']=ser1['AwayTeam'].apply(lambda x : 'FC Internazionale Milano' if x == 'Inter'else x )       \n",
    "ser1['AwayTeam']=ser1['AwayTeam'].apply(lambda x : 'Frosinone Calcio' if x == 'Frosinone'else x )       \n",
    "ser1['AwayTeam']=ser1['AwayTeam'].apply(lambda x : 'Genoa CFC' if x == 'Genoa'else x )       \n",
    "ser1['AwayTeam']=ser1['AwayTeam'].apply(lambda x : 'Hellas Verona FC' if x == 'Malaga'else x )       \n",
    "ser1['AwayTeam']=ser1['AwayTeam'].apply(lambda x : 'Juventus Turin' if x == 'Juventus'else x )       \n",
    "ser1['AwayTeam']=ser1['AwayTeam'].apply(lambda x : 'SS Lazio' if x == 'Lazio'else x )       \n",
    "ser1['AwayTeam']=ser1['AwayTeam'].apply(lambda x : 'SSC Napoli' if x == 'Napoli'else x )       \n",
    "ser1['AwayTeam']=ser1['AwayTeam'].apply(lambda x : 'Torino FC' if x == 'Torino'else x )       \n",
    "ser1['AwayTeam']=ser1['AwayTeam'].apply(lambda x : 'UC Sampdoria' if x == 'Sampdoria'else x )       \n",
    "ser1['AwayTeam']=ser1['AwayTeam'].apply(lambda x : 'US Cittá di Palermo' if x == 'Palermo'else x )\n",
    "ser1['AwayTeam']=ser1['AwayTeam'].apply(lambda x : 'US Sassuolo Calcio' if x == 'Sassuolo'else x )\n",
    "ser1['AwayTeam']=ser1['AwayTeam'].apply(lambda x : 'Udinese Calcio' if x == 'Udinese'else x )\n",
    "\n",
    "ser1.rename(columns={'HomeTeam': 'homeTeamName', 'AwayTeam': 'awayTeamName'}, inplace=True)\n",
    "ser2015=pd.merge(ser, ser1, on=['homeTeamName', 'awayTeamName'], how='inner')\n",
    "ser2015.to_csv('../data/ser2015.csv')"
   ]
  },
  {
   "cell_type": "code",
   "execution_count": 14,
   "metadata": {
    "collapsed": true
   },
   "outputs": [],
   "source": [
    "#2015/Ligue 1 "
   ]
  },
  {
   "cell_type": "code",
   "execution_count": 15,
   "metadata": {
    "collapsed": true
   },
   "outputs": [],
   "source": [
    "Ligue=pd.DataFrame()\n",
    "for root, dirs, files in os.walk('../data/raw_data'):\n",
    "    if '/2015/Ligue 1 ' in root:\n",
    "        if '/Fixtures' in root:        \n",
    "            for f in files:\n",
    "                if f.endswith('.json'):\n",
    "                    if not '.DS_Store' in f:\n",
    "                        with open(os.path.join(root,f), 'r', encoding='utf-8', errors=\"ignore\") as json_file:\n",
    "                            data=json.load(json_file)\n",
    "                            to_ignore = ['odds']\n",
    "                            data1 = {key: value for (key, value) in data.items() if key.rsplit('_', 1)[-1] not in to_ignore}\n",
    "                            fix=pd.DataFrame.from_dict(data1, orient='columns', dtype=None)\n",
    "                            fix['FinalScore']=str(fix.iloc[1]['result']) +':'+ str(fix.iloc[0]['result'])\n",
    "                            try:\n",
    "                                fix['HalfTimeScore']=str(fix.iloc[2]['result']['goalsHomeTeam']) +':'+ str(fix.iloc[2]['result']['goalsAwayTeam'])     \n",
    "                            except IndexError:\n",
    "                                fix['HalfTimeScore']='0:0'\n",
    "                            \n",
    "                            fix=fix.drop('result',1)\n",
    "                            fix=fix.drop('goalsHomeTeam',0)\n",
    "                            try:\n",
    "                                fix=fix.drop('halfTime',0)\n",
    "                            except ValueError:\n",
    "                                pass\n",
    "                            fix=fix.reset_index(drop=True)\n",
    "                            Ligue=pd.concat([Ligue,fix])\n",
    "Ligue=Ligue.reset_index(drop=True)\n",
    "Ligue['date']=Ligue['date'].apply(lambda x :datetime.datetime.strptime((re.search(r'\\d{4}-\\d{2}-\\d{2}', x)).group(), '%Y-%m-%d').date() )       "
   ]
  },
  {
   "cell_type": "code",
   "execution_count": 16,
   "metadata": {
    "collapsed": false
   },
   "outputs": [],
   "source": [
    "Ligue1=pd.read_csv('../data/extra_data (2015)/Ligue 1.csv')   \n",
    "\n",
    "Ligue1['HomeTeam']=Ligue1['HomeTeam'].apply(lambda x : 'AS Saint-Étienne' if x == 'St Etienne'else x )       \n",
    "Ligue1['HomeTeam']=Ligue1['HomeTeam'].apply(lambda x : 'Angers SCO' if x == 'Angers'else x )       \n",
    "Ligue1['HomeTeam']=Ligue1['HomeTeam'].apply(lambda x : 'EA Guingamp' if x == \"Guingamp\" else x )       \n",
    "Ligue1['HomeTeam']=Ligue1['HomeTeam'].apply(lambda x : 'ES Troyes AC' if x == 'Troyes'else x )       \n",
    "Ligue1['HomeTeam']=Ligue1['HomeTeam'].apply(lambda x : 'FC Girondins de Bordeaux' if x == 'Bordeaux'else x )       \n",
    "Ligue1['HomeTeam']=Ligue1['HomeTeam'].apply(lambda x : 'FC Lorient' if x == 'Lorient'else x )       \n",
    "Ligue1['HomeTeam']=Ligue1['HomeTeam'].apply(lambda x : 'FC Nantes' if x == 'Nantes'else x )       \n",
    "Ligue1['HomeTeam']=Ligue1['HomeTeam'].apply(lambda x : 'Gazélec Ajaccio' if x == 'Ajaccio GFCO'else x )       \n",
    "Ligue1['HomeTeam']=Ligue1['HomeTeam'].apply(lambda x : 'Montpellier Hérault SC' if x == 'Montpellier'else x )       \n",
    "Ligue1['HomeTeam']=Ligue1['HomeTeam'].apply(lambda x : 'OGC Nice' if x == 'Nice'else x )       \n",
    "Ligue1['HomeTeam']=Ligue1['HomeTeam'].apply(lambda x : 'OSC Lille' if x == 'Lille'else x )       \n",
    "Ligue1['HomeTeam']=Ligue1['HomeTeam'].apply(lambda x : 'Olympique Lyonnais' if x == 'Lyon'else x )       \n",
    "Ligue1['HomeTeam']=Ligue1['HomeTeam'].apply(lambda x : 'Olympique de Marseille' if x == 'Marseille'else x )       \n",
    "Ligue1['HomeTeam']=Ligue1['HomeTeam'].apply(lambda x : 'Paris Saint-Germain' if x == 'Paris SG'else x )       \n",
    "Ligue1['HomeTeam']=Ligue1['HomeTeam'].apply(lambda x : 'SC Bastia' if x == 'Bastia'else x )       \n",
    "Ligue1['HomeTeam']=Ligue1['HomeTeam'].apply(lambda x : 'SM Caen' if x == 'Caen'else x )       \n",
    "Ligue1['HomeTeam']=Ligue1['HomeTeam'].apply(lambda x : 'Stade Rennais FC' if x == 'Rennes'else x )       \n",
    "Ligue1['HomeTeam']=Ligue1['HomeTeam'].apply(lambda x : 'Stade de Reims' if x == 'Reims'else x )\n",
    "Ligue1['HomeTeam']=Ligue1['HomeTeam'].apply(lambda x : 'Toulouse FC' if x == 'Toulouse'else x )\n",
    "Ligue1['HomeTeam']=Ligue1['HomeTeam'].apply(lambda x : 'AS Monaco FC' if x == 'Monaco'else x )\n",
    "\n",
    "Ligue1['AwayTeam']=Ligue1['AwayTeam'].apply(lambda x : 'AS Saint-Étienne' if x == 'St Etienne'else x )       \n",
    "Ligue1['AwayTeam']=Ligue1['AwayTeam'].apply(lambda x : 'Angers SCO' if x == 'Angers'else x )       \n",
    "Ligue1['AwayTeam']=Ligue1['AwayTeam'].apply(lambda x : 'EA Guingamp' if x == \"Guingamp\" else x )       \n",
    "Ligue1['AwayTeam']=Ligue1['AwayTeam'].apply(lambda x : 'ES Troyes AC' if x == 'Troyes'else x )       \n",
    "Ligue1['AwayTeam']=Ligue1['AwayTeam'].apply(lambda x : 'FC Girondins de Bordeaux' if x == 'Bordeaux'else x )       \n",
    "Ligue1['AwayTeam']=Ligue1['AwayTeam'].apply(lambda x : 'FC Lorient' if x == 'Lorient'else x )       \n",
    "Ligue1['AwayTeam']=Ligue1['AwayTeam'].apply(lambda x : 'FC Nantes' if x == 'Nantes'else x )       \n",
    "Ligue1['AwayTeam']=Ligue1['AwayTeam'].apply(lambda x : 'Gazélec Ajaccio' if x == 'Ajaccio GFCO'else x )       \n",
    "Ligue1['AwayTeam']=Ligue1['AwayTeam'].apply(lambda x : 'Montpellier Hérault SC' if x == 'Montpellier'else x )       \n",
    "Ligue1['AwayTeam']=Ligue1['AwayTeam'].apply(lambda x : 'OGC Nice' if x == 'Nice'else x )       \n",
    "Ligue1['AwayTeam']=Ligue1['AwayTeam'].apply(lambda x : 'OSC Lille' if x == 'Lille'else x )       \n",
    "Ligue1['AwayTeam']=Ligue1['AwayTeam'].apply(lambda x : 'Olympique Lyonnais' if x == 'Lyon'else x )       \n",
    "Ligue1['AwayTeam']=Ligue1['AwayTeam'].apply(lambda x : 'Olympique de Marseille' if x == 'Marseille'else x )       \n",
    "Ligue1['AwayTeam']=Ligue1['AwayTeam'].apply(lambda x : 'Paris Saint-Germain' if x == 'Paris SG'else x )       \n",
    "Ligue1['AwayTeam']=Ligue1['AwayTeam'].apply(lambda x : 'SC Bastia' if x == 'Bastia'else x )       \n",
    "Ligue1['AwayTeam']=Ligue1['AwayTeam'].apply(lambda x : 'SM Caen' if x == 'Caen'else x )       \n",
    "Ligue1['AwayTeam']=Ligue1['AwayTeam'].apply(lambda x : 'Stade Rennais FC' if x == 'Rennes'else x )       \n",
    "Ligue1['AwayTeam']=Ligue1['AwayTeam'].apply(lambda x : 'Stade de Reims' if x == 'Reims'else x )\n",
    "Ligue1['AwayTeam']=Ligue1['AwayTeam'].apply(lambda x : 'Toulouse FC' if x == 'Toulouse'else x )\n",
    "Ligue1['AwayTeam']=Ligue1['AwayTeam'].apply(lambda x : 'AS Monaco FC' if x == 'Monaco'else x )\n",
    "\n",
    "Ligue1.rename(columns={'HomeTeam': 'homeTeamName', 'AwayTeam': 'awayTeamName'}, inplace=True)\n",
    "Ligue2015=pd.merge(Ligue, Ligue1, on=['homeTeamName', 'awayTeamName'], how='inner')\n",
    "Ligue2015.to_csv('../data/Ligue2015.csv')"
   ]
  },
  {
   "cell_type": "code",
   "execution_count": null,
   "metadata": {
    "collapsed": true
   },
   "outputs": [],
   "source": []
  },
  {
   "cell_type": "code",
   "execution_count": 17,
   "metadata": {
    "collapsed": false
   },
   "outputs": [],
   "source": [
    "pAway=(pl2015[(pl2015['HTHG']>pl2015['HTAG'])&(pl2015['FTAG']>pl2015['FTHG'])][['homeTeamName','awayTeamName','Date','HTHG','HTAG','FinalScore']])                                     \n",
    "pHome=(pl2015[(pl2015['HTAG']>pl2015['HTHG'])&(pl2015['FTHG']>pl2015['FTAG'])][['homeTeamName','awayTeamName','Date','HTHG','HTAG','FinalScore']])                       \n",
    "              \n",
    "bAway=(bun2015[(bun2015['HTHG']>bun2015['HTAG'])&(bun2015['FTAG']>bun2015['FTHG'])][['homeTeamName','awayTeamName','Date','HTHG','HTAG','FinalScore']])    \n",
    "bHome=(bun2015[(bun2015['HTAG']>bun2015['HTHG'])&(bun2015['FTHG']>bun2015['FTAG'])][['homeTeamName','awayTeamName','Date','HTHG','HTAG','FinalScore']])   \n",
    "    \n",
    "lAway=(lali2015[(lali2015['HTHG']>lali2015['HTAG'])&(lali2015['FTAG']>lali2015['FTHG'])][['homeTeamName','awayTeamName','Date','HTHG','HTAG','FinalScore']])    \n",
    "lHome=(lali2015[(lali2015['HTAG']>lali2015['HTHG'])&(lali2015['FTHG']>lali2015['FTAG'])][['homeTeamName','awayTeamName','Date','HTHG','HTAG','FinalScore']])    \n",
    "    \n",
    "sAway=(ser2015[(ser2015['HTHG']>ser2015['HTAG'])&(ser2015['FTAG']>ser2015['FTHG'])][['homeTeamName','awayTeamName','Date','HTHG','HTAG','FinalScore']])    \n",
    "sHome=(ser2015[(ser2015['HTAG']>ser2015['HTHG'])&(ser2015['FTHG']>ser2015['FTAG'])][['homeTeamName','awayTeamName','Date','HTHG','HTAG','FinalScore']])    \n",
    "    \n",
    "fAway=(Ligue2015[(Ligue2015['HTHG']>Ligue2015['HTAG'])&(Ligue2015['FTAG']>Ligue2015['FTHG'])][['homeTeamName','awayTeamName','Date','HTHG','HTAG','FinalScore']])   \n",
    "fHome=(Ligue2015[(Ligue2015['HTAG']>Ligue2015['HTHG'])&(Ligue2015['FTHG']>Ligue2015['FTAG'])][['homeTeamName','awayTeamName','Date','HTHG','HTAG','FinalScore']])        "
   ]
  },
  {
   "cell_type": "code",
   "execution_count": null,
   "metadata": {
    "collapsed": true
   },
   "outputs": [],
   "source": []
  },
  {
   "cell_type": "code",
   "execution_count": 18,
   "metadata": {
    "collapsed": true
   },
   "outputs": [],
   "source": [
    "homeWins=[len(pHome),len(bHome),len(lHome),len(sHome),len(fHome)]\n",
    "awayWins=[len(pAway),len(bAway),len(lAway),len(sAway),len(fHome)]"
   ]
  },
  {
   "cell_type": "code",
   "execution_count": 19,
   "metadata": {
    "collapsed": false
   },
   "outputs": [],
   "source": [
    "x=[1,2,3,4,5]\n",
    "league=['EPL','Bundesliga','Laliga','Serie A','Ligue 1']"
   ]
  },
  {
   "cell_type": "code",
   "execution_count": 24,
   "metadata": {
    "collapsed": false
   },
   "outputs": [
    {
     "data": {
      "image/png": "[encoded data removed]",
      "text/plain": [
       "<matplotlib.figure.Figure at 0x113996828>"
      ]
     },
     "metadata": {},
     "output_type": "display_data"
    }
   ],
   "source": [
    "mp.style.use('ggplot')\n",
    "mp.style.use('seaborn-dark-palette')\n",
    "mp.style.use('seaborn-poster')\n",
    "\n",
    "pos=[0.2]*5\n",
    "z = mp.subplot(111)\n",
    "\n",
    "z.bar([i - (j) for i, j in zip(x, pos)], homeWins,width=0.3,color='gold',align='center',label='homeWins')\n",
    "\n",
    "z.bar(x, awayWins,width=0.3,color='olive',align='center',label='awayWins',alpha=.9)\n",
    "\n",
    "\n",
    "mp.xticks(range(1,len(x)+1),league,rotation=45)\n",
    "z.legend()\n",
    "\n",
    "mp.ylabel('Win Count')\n",
    "mp.xlabel('Top Leagues')\n",
    "mp.tight_layout()\n",
    "mp.show()"
   ]
  },
  {
   "cell_type": "code",
   "execution_count": null,
   "metadata": {
    "collapsed": true
   },
   "outputs": [],
   "source": []
  },
  {
   "cell_type": "code",
   "execution_count": null,
   "metadata": {
    "collapsed": true
   },
   "outputs": [],
   "source": []
  },
  {
   "cell_type": "code",
   "execution_count": null,
   "metadata": {
    "collapsed": true
   },
   "outputs": [],
   "source": []
  },
  {
   "cell_type": "code",
   "execution_count": null,
   "metadata": {
    "collapsed": true
   },
   "outputs": [],
   "source": []
  }
 ],
 "metadata": {
  "anaconda-cloud": {},
  "kernelspec": {
   "display_name": "Python [default]",
   "language": "python",
   "name": "python3"
  },
  "language_info": {
   "codemirror_mode": {
    "name": "ipython",
    "version": 3
   },
   "file_extension": ".py",
   "mimetype": "text/x-python",
   "name": "python",
   "nbconvert_exporter": "python",
   "pygments_lexer": "ipython3",
   "version": "3.5.2"
  }
 },
 "nbformat": 4,
 "nbformat_minor": 2
}
